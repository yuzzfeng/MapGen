{
 "cells": [
  {
   "cell_type": "code",
   "execution_count": 1,
   "metadata": {},
   "outputs": [
    {
     "name": "stderr",
     "output_type": "stream",
     "text": [
      "Using TensorFlow backend.\n"
     ]
    }
   ],
   "source": [
    "# -*- coding: utf-8 -*-\n",
    "\n",
    "## Map Generalization for Polygons using Autoencode-like strucutures\n",
    "## Adatped based on Master Thesis of SERCAN CAKIR \"ROAD NETWORK EXTRACTION USING CNN\"\n",
    "## Author: Yu Feng, yuzz.feng@gmail.com\n",
    "## 1. Version Author: SERCAN CAKIR\n",
    "\n",
    "## Changes:\n",
    "## 1. Two conv layers were added before the first down convlusional layer\n",
    "## 2. Output can be any size during the evaluation\n",
    "## 3. Adapt the code to support more images as training examples\n",
    "## 4. Dropouot may make the sharpe corners vanishing, we delete half of them, but we should used some\n",
    "## 5. \n",
    "\n",
    "import matplotlib\n",
    "#matplotlib.use('Agg') # necessary for linux kernal\n",
    "%matplotlib inline\n",
    "import matplotlib.pyplot as plt\n",
    "\n",
    "import os\n",
    "import numpy as np\n",
    "from numpy import random\n",
    "np.random.seed(7)\n",
    "import keras\n",
    "from keras.models import Sequential\n",
    "from keras.callbacks import History\n",
    "from keras.layers.core import Dropout\n",
    "#from keras.layers.convolutional import UpSampling2D, Conv2D\n",
    "from keras.layers import MaxPooling2D, Conv2DTranspose, BatchNormalization, Activation\n",
    "from keras import backend as K\n",
    "\n",
    "from keras.models import Model\n",
    "from keras.layers import Input, Conv2D, Dropout, UpSampling2D, Activation, Concatenate\n",
    "\n",
    "from osgeo import gdal\n",
    "from sklearn.model_selection import train_test_split\n",
    "from skimage.util.shape import view_as_windows\n",
    "\n",
    "from data_helper import readImg, readImgInv, imagePatches, removeBlackImg, removeCorrespondence, check_and_create\n",
    "\n",
    "from time import gmtime, strftime\n",
    "timestr = strftime(\"%Y-%m-%d %H-%M-%S\", gmtime())\n",
    "\n",
    "def prediction_independent(model_ex1, image_arr):\n",
    "    \n",
    "    conc2 = np.reshape(model_ex1.predict(np.reshape(image_arr, (1, image_arr.shape[0], image_arr.shape[1], 1))), \n",
    "                   (image_arr.shape[0], image_arr.shape[1]))\n",
    "    return conc2\n",
    "\n",
    "\n",
    "############ Path Setting ##############\n",
    "\n",
    "trainPath = r\"Data/Training_Validation/\"\n",
    "\n",
    "trainPath = r\"Data/geb10/\"\n",
    "\n",
    "\n",
    "testPath = r\"Data/Testing/\"\n",
    "tmpPath = r\"../tmp_data/\"\n",
    "\n",
    "outPath = r\"Prediction/\"\n",
    "check_and_create(outPath + timestr)\n",
    "outPath = outPath + timestr + \"/\""
   ]
  },
  {
   "cell_type": "markdown",
   "metadata": {},
   "source": [
    "## Models"
   ]
  },
  {
   "cell_type": "code",
   "execution_count": 2,
   "metadata": {},
   "outputs": [],
   "source": [
    "import keras.backend as K\n",
    "import tensorflow as tf\n",
    "from keras.losses import binary_crossentropy\n",
    "\n",
    "_EPSILON = 10e-8\n",
    "\n",
    "def IoU(yTrue,yPred):  \n",
    "    \n",
    "    I = tf.multiply(yTrue, yPred, name=\"intersection\")\n",
    "    U = yTrue + yPred - I + _EPSILON\n",
    "    \n",
    "    IoU = tf.reduce_sum(I) / tf.reduce_sum(U)\n",
    "    return -tf.log(IoU + _EPSILON) + binary_crossentropy(yTrue,yPred)\n",
    "    \n",
    "    #IoU = tf.divide(I, U, name='IoU')\n",
    "    #L = -tf.log(IoU + _EPSILON)\n",
    "    #return tf.reduce_mean(L)\n",
    "    \n",
    "    \n",
    "def MSE_CROSS(yTrue,yPred):\n",
    "    return binary_crossentropy(yTrue,yPred) + K.abs(K.sum(yTrue) - K.sum(yPred))"
   ]
  },
  {
   "cell_type": "code",
   "execution_count": 3,
   "metadata": {},
   "outputs": [],
   "source": []
  },
  {
   "cell_type": "code",
   "execution_count": 4,
   "metadata": {},
   "outputs": [],
   "source": []
  },
  {
   "cell_type": "code",
   "execution_count": 5,
   "metadata": {},
   "outputs": [],
   "source": []
  },
  {
   "cell_type": "code",
   "execution_count": 6,
   "metadata": {},
   "outputs": [],
   "source": []
  },
  {
   "cell_type": "code",
   "execution_count": 7,
   "metadata": {},
   "outputs": [],
   "source": []
  },
  {
   "cell_type": "markdown",
   "metadata": {},
   "source": [
    "## Prepare Training Data"
   ]
  },
  {
   "cell_type": "code",
   "execution_count": 8,
   "metadata": {},
   "outputs": [],
   "source": [
    "# Order the image dimension acc. to TensorFlow (batc_hsize, rows, cols, channels)\n",
    "K.set_image_dim_ordering('tf')\n",
    "\n",
    "# set the working directory\n",
    "#os.chdir(r'F:\\sercan\\input_images')\n",
    "PATH = os.getcwd()\n",
    "#plt.gray()\n",
    "#plt.show()\n",
    "\n",
    "\n",
    "p_size_1 = 128 # Compared with 256, which larger may generate round corners"
   ]
  },
  {
   "cell_type": "raw",
   "metadata": {},
   "source": [
    "def data_collector(fns_input, fns_output):\n",
    "    \n",
    "    sim_input = []\n",
    "    sim_output = []\n",
    "    \n",
    "    for fn_input, fn_output in zip(fns_input, fns_output):\n",
    "        \n",
    "        # load simulated heat map (TRAJECTORY SIMULATION) and target road for Hannover ####\n",
    "        sim_heatmap_hannover = readImg(fn_input)\n",
    "        sim_road_hannover = readImg(fn_output)\n",
    "        \n",
    "        sim_hm_patches_overlap = imagePatches(sim_heatmap_hannover, p_size_1, p_size_1, int(p_size_1))\n",
    "        sim_road_patches_overlap = imagePatches(sim_road_hannover, p_size_1, p_size_1, int(p_size_1))\n",
    "        sim_road_patches_overlap_new = removeCorrespondence(sim_road_patches_overlap, sim_hm_patches_overlap)\n",
    "        sim_hm_patches_overlap_new = removeCorrespondence(sim_hm_patches_overlap, sim_road_patches_overlap)\n",
    "        sim_road_patches_overlap_new_new = removeBlackImg(sim_road_patches_overlap)\n",
    "        \n",
    "        sim_input += sim_hm_patches_overlap_new\n",
    "        sim_output += sim_road_patches_overlap_new_new\n",
    "    \n",
    "    return sim_input, sim_output\n",
    "\n",
    "#fns_input = [trainPath + r\"traininput_inv.png\"]\n",
    "#fns_output = [trainPath + r\"trainoutput_inv.png\"]\n",
    "\n",
    "fns_input = [trainPath + r\"geb.png\"]\n",
    "fns_output = [trainPath + r\"geb10.png\"]\n",
    "\n",
    "#fns_input = [r\"data/input2.tif\"]#, r\"data/geb1_inp_inv_cut.tif\"]\n",
    "#fns_output = [r\"data/output2.tif\"]#, r\"data/geb1_out_inv_cut.tif\"]\n",
    "\n",
    "sim_hm_patches_32_new, sim_road_patches_32_new_new = data_collector(fns_input, fns_output)\n",
    "print('Number of tiles: ', len(sim_hm_patches_32_new))\n",
    "\n",
    "#### experience 1 - simulated hm\n",
    "index_list_sim = list(range(len(sim_hm_patches_32_new)))\n",
    "random.shuffle(index_list_sim)\n",
    "\n",
    "idx_sim = 1000\n",
    "index_list_test_sim = index_list_sim[-idx_sim:]\n",
    "index_list_test_sim.sort()\n",
    "sim_hm_test = [sim_hm_patches_32_new[i] for i in index_list_test_sim]\n",
    "sim_road_test = [sim_road_patches_32_new_new[i] for i in index_list_test_sim]\n",
    "\n",
    "index_list_train_sim = index_list_sim[:-idx_sim]\n",
    "index_list_train_sim.sort()\n",
    "sim_hm_train = [sim_hm_patches_32_new[i] for i in index_list_train_sim]\n",
    "sim_road_train = [sim_road_patches_32_new_new[i] for i in index_list_train_sim]\n",
    "\n",
    "from sklearn.model_selection import train_test_split\n",
    "#sim_hm_train, sim_hm_test, sim_road_train, sim_road_test = train_test_split(sim_hm_patches_32_new, \n",
    "#                                                                            sim_road_patches_32_new_new,\n",
    "#                                                                            test_size=0.33, random_state=42)\n",
    "\n",
    "print(len(sim_hm_train), len(sim_hm_test), len(sim_road_train), len(sim_road_test))\n",
    "\n",
    "x_train_sim = np.reshape(sim_hm_train, (len(sim_hm_train), p_size_1, p_size_1, 1))\n",
    "y_train_sim = np.reshape(sim_road_train, (len(sim_road_train), p_size_1, p_size_1, 1))\n",
    "x_test_sim = np.reshape(sim_hm_test, (len(sim_hm_test), p_size_1, p_size_1, 1))\n",
    "y_test_sim = np.reshape(sim_road_test, (len(sim_road_test), p_size_1, p_size_1, 1))\n",
    "\n",
    "# save image patch arrays\n",
    "np.save(tmpPath + \"x_train_sim.npy\", x_train_sim)\n",
    "np.save(tmpPath + \"y_train_sim.npy\", y_train_sim)\n",
    "np.save(tmpPath + \"x_test_sim.npy\", x_test_sim)\n",
    "np.save(tmpPath + \"y_test_sim.npy\", y_test_sim)\n",
    "\n",
    "plt.figure()\n",
    "plt.imshow(np.reshape(x_test_sim[2], (p_size_1,p_size_1)))\n",
    "plt.figure()\n",
    "plt.imshow(np.reshape(y_test_sim[2], (p_size_1,p_size_1)))\n",
    "\n",
    "input_shape1 = (None, None, 1) #x_train_sim[0].shape\n",
    "print('Input Shape of the models', x_train_sim.shape)"
   ]
  },
  {
   "cell_type": "code",
   "execution_count": 9,
   "metadata": {},
   "outputs": [],
   "source": [
    "# save image patch arrays\n",
    "x_train_sim = np.load(tmpPath + \"x_train_sim.npy\")\n",
    "y_train_sim = np.load(tmpPath + \"y_train_sim.npy\")\n",
    "x_test_sim = np.load(tmpPath + \"x_test_sim.npy\")\n",
    "y_test_sim = np.load(tmpPath + \"y_test_sim.npy\")"
   ]
  },
  {
   "cell_type": "code",
   "execution_count": 11,
   "metadata": {},
   "outputs": [
    {
     "name": "stdout",
     "output_type": "stream",
     "text": [
      "Input Shape of the models (35083, 128, 128, 1)\n",
      "Tet Shape of the models (1000, 128, 128, 1)\n"
     ]
    },
    {
     "data": {
      "image/png": "[encoded data removed]",
      "text/plain": [
       "<matplotlib.figure.Figure at 0x7f7244577c88>"
      ]
     },
     "metadata": {},
     "output_type": "display_data"
    },
    {
     "data": {
      "image/png": "[encoded data removed]",
      "text/plain": [
       "<matplotlib.figure.Figure at 0x7f73604a7080>"
      ]
     },
     "metadata": {},
     "output_type": "display_data"
    }
   ],
   "source": [
    "plt.figure()\n",
    "plt.imshow(np.reshape(x_test_sim[2], (p_size_1,p_size_1)))\n",
    "plt.figure()\n",
    "plt.imshow(np.reshape(y_test_sim[2], (p_size_1,p_size_1)))\n",
    "\n",
    "input_shape1 = (None, None, 1) #x_train_sim[0].shape\n",
    "print('Input Shape of the models', x_train_sim.shape)\n",
    "print('Tet Shape of the models', x_test_sim.shape)"
   ]
  },
  {
   "cell_type": "code",
   "execution_count": 12,
   "metadata": {},
   "outputs": [
    {
     "name": "stdout",
     "output_type": "stream",
     "text": [
      "__________________________________________________________________________________________________\n",
      "Layer (type)                    Output Shape         Param #     Connected to                     \n",
      "==================================================================================================\n",
      "input_1 (InputLayer)            (None, None, None, 1 0                                            \n",
      "__________________________________________________________________________________________________\n",
      "flat_conv_a (Conv2D)            (None, None, None, 2 240         input_1[0][0]                    \n",
      "__________________________________________________________________________________________________\n",
      "flat_conv_b (Conv2D)            (None, None, None, 2 5208        flat_conv_a[0][0]                \n",
      "__________________________________________________________________________________________________\n",
      "down_conv_1 (Conv2D)            (None, None, None, 2 5208        flat_conv_b[0][0]                \n",
      "__________________________________________________________________________________________________\n",
      "flat_conv_1 (Conv2D)            (None, None, None, 6 13888       down_conv_1[0][0]                \n",
      "__________________________________________________________________________________________________\n",
      "flat_conv_2 (Conv2D)            (None, None, None, 6 36928       flat_conv_1[0][0]                \n",
      "__________________________________________________________________________________________________\n",
      "down_conv_2 (Conv2D)            (None, None, None, 6 36928       flat_conv_2[0][0]                \n",
      "__________________________________________________________________________________________________\n",
      "flat_conv_3 (Conv2D)            (None, None, None, 1 73856       down_conv_2[0][0]                \n",
      "__________________________________________________________________________________________________\n",
      "flat_conv_4 (Conv2D)            (None, None, None, 1 147584      flat_conv_3[0][0]                \n",
      "__________________________________________________________________________________________________\n",
      "xx_conv_3 (Conv2D)              (None, None, None, 1 147584      flat_conv_4[0][0]                \n",
      "__________________________________________________________________________________________________\n",
      "flat_conv_5 (Conv2D)            (None, None, None, 2 295168      xx_conv_3[0][0]                  \n",
      "__________________________________________________________________________________________________\n",
      "flat_conv_6 (Conv2D)            (None, None, None, 2 590080      flat_conv_5[0][0]                \n",
      "__________________________________________________________________________________________________\n",
      "flat_conv_7 (Conv2D)            (None, None, None, 2 590080      flat_conv_6[0][0]                \n",
      "__________________________________________________________________________________________________\n",
      "dropout_1 (Dropout)             (None, None, None, 2 0           flat_conv_7[0][0]                \n",
      "__________________________________________________________________________________________________\n",
      "xx_conv_0 (Conv2D)              (None, None, None, 1 295040      dropout_1[0][0]                  \n",
      "__________________________________________________________________________________________________\n",
      "flat_conv_8 (Conv2D)            (None, None, None, 1 147584      xx_conv_0[0][0]                  \n",
      "__________________________________________________________________________________________________\n",
      "flat_conv_8b (Conv2D)           (None, None, None, 1 147584      flat_conv_8[0][0]                \n",
      "__________________________________________________________________________________________________\n",
      "up_samp_1 (UpSampling2D)        (None, None, None, 1 0           flat_conv_8b[0][0]               \n",
      "__________________________________________________________________________________________________\n",
      "up_conv_1 (Conv2D)              (None, None, None, 6 131136      up_samp_1[0][0]                  \n",
      "__________________________________________________________________________________________________\n",
      "concatenate_1 (Concatenate)     (None, None, None, 1 0           flat_conv_2[0][0]                \n",
      "                                                                 up_conv_1[0][0]                  \n",
      "__________________________________________________________________________________________________\n",
      "flat_conv_9 (Conv2D)            (None, None, None, 6 8256        concatenate_1[0][0]              \n",
      "__________________________________________________________________________________________________\n",
      "flat_conv_10 (Conv2D)           (None, None, None, 6 36928       flat_conv_9[0][0]                \n",
      "__________________________________________________________________________________________________\n",
      "up_samp_2 (UpSampling2D)        (None, None, None, 6 0           flat_conv_10[0][0]               \n",
      "__________________________________________________________________________________________________\n",
      "up_conv_2 (Conv2D)              (None, None, None, 2 24600       up_samp_2[0][0]                  \n",
      "__________________________________________________________________________________________________\n",
      "concatenate_2 (Concatenate)     (None, None, None, 4 0           flat_conv_b[0][0]                \n",
      "                                                                 up_conv_2[0][0]                  \n",
      "__________________________________________________________________________________________________\n",
      "flat_conv_11 (Conv2D)           (None, None, None, 1 588         concatenate_2[0][0]              \n",
      "__________________________________________________________________________________________________\n",
      "flat_conv_11b (Conv2D)          (None, None, None, 1 1308        flat_conv_11[0][0]               \n",
      "__________________________________________________________________________________________________\n",
      "flat_conv_12 (Conv2D)           (None, None, None, 1 109         flat_conv_11b[0][0]              \n",
      "==================================================================================================\n",
      "Total params: 2,735,885\n",
      "Trainable params: 2,735,885\n",
      "Non-trainable params: 0\n",
      "__________________________________________________________________________________________________\n"
     ]
    }
   ],
   "source": [
    "opt1 = keras.optimizers.Adadelta(lr=1.0, rho=0.95, epsilon=1e-08, decay=0.0)\n",
    "#opt1 = keras.optimizers.RMSprop(lr=0.001, rho=0.9, epsilon=None, decay=0.0)\n",
    "\n",
    "#model_ex1 = create_model(opt1, input_shape1)\n",
    "\n",
    "#model_ex1 = create_model_batch(opt1, input_shape1) # Not good as the skip connection\n",
    "\n",
    "#model_ex1 = create_model_add_skips(opt1, input_shape1)\n",
    "\n",
    "model_ex1 = create_model_add_skips_2(opt1, input_shape1)\n",
    "\n",
    "#model_ex1 = create_model_add_skips_3(opt1, input_shape1) # Add max pool but not better\n",
    "\n",
    "model_ex1.summary()"
   ]
  },
  {
   "cell_type": "code",
   "execution_count": 13,
   "metadata": {},
   "outputs": [],
   "source": [
    "import itertools\n",
    "from keras.preprocessing.image import ImageDataGenerator\n",
    "from keras.callbacks import EarlyStopping, ReduceLROnPlateau, ModelCheckpoint"
   ]
  },
  {
   "cell_type": "code",
   "execution_count": null,
   "metadata": {},
   "outputs": [
    {
     "name": "stdout",
     "output_type": "stream",
     "text": [
      "Epoch 1/50\n",
      "5000/5000 [==============================] - 407s 81ms/step - loss: 0.0365 - acc: 0.9693 - val_loss: 0.0252 - val_acc: 0.9940\n",
      "Epoch 2/50\n",
      "5000/5000 [==============================] - 484s 97ms/step - loss: 0.0318 - acc: 0.9705 - val_loss: 0.0238 - val_acc: 0.9941\n",
      "Epoch 3/50\n",
      "5000/5000 [==============================] - 471s 94ms/step - loss: 0.0308 - acc: 0.9705 - val_loss: 0.0237 - val_acc: 0.9942\n",
      "Epoch 4/50\n",
      "3785/5000 [=====================>........] - ETA: 1:48 - loss: 0.0304 - acc: 0.9705"
     ]
    }
   ],
   "source": [
    "data_gen_args = dict(rotation_range=180.)\n",
    "\n",
    "image_datagen = ImageDataGenerator(**data_gen_args)\n",
    "mask_datagen = ImageDataGenerator(**data_gen_args)\n",
    "\n",
    "seed = 1\n",
    "BATCH_SIZE = 16\n",
    "result_generator = zip(image_datagen.flow(x_train_sim, batch_size=BATCH_SIZE, seed=seed), \n",
    "                       mask_datagen.flow(y_train_sim, batch_size=BATCH_SIZE, seed=seed))\n",
    "\n",
    "History1 = History()\n",
    "hist1 = model_ex1.fit_generator(  result_generator,\n",
    "                                  epochs = 50,\n",
    "                                  steps_per_epoch=5000,\n",
    "                                  verbose=1,\n",
    "                                  shuffle=True,\n",
    "                                  callbacks=[History1, \n",
    "                                             EarlyStopping(patience=10), \n",
    "                                             ReduceLROnPlateau(patience = 3, verbose = 0),\n",
    "                                             ModelCheckpoint(outPath + \"weights.hdf5\", \n",
    "                                                             save_best_only = True, \n",
    "                                                             save_weights_only = False)],\n",
    "                                  validation_data=(x_test_sim, y_test_sim))"
   ]
  },
  {
   "cell_type": "markdown",
   "metadata": {},
   "source": [
    "## Training"
   ]
  },
  {
   "cell_type": "raw",
   "metadata": {
    "scrolled": false
   },
   "source": [
    "##### Train the model with out generator\n",
    "History1 = History()\n",
    "hist1 = model_ex1.fit(x_train_sim, y_train_sim,\n",
    "                      batch_size=16,\n",
    "                      epochs = 50,\n",
    "                      verbose=1,\n",
    "                      shuffle=True,\n",
    "                      callbacks=[History1, \n",
    "                                 EarlyStopping(patience = 10), \n",
    "                                 ReduceLROnPlateau(patience = 3, verbose = 0),\n",
    "                                 ModelCheckpoint(outPath + \"weights.hdf5\", \n",
    "                                                 save_best_only = True, \n",
    "                                                 save_weights_only = False)],\n",
    "                      validation_data=(x_test_sim, y_test_sim))"
   ]
  },
  {
   "cell_type": "code",
   "execution_count": null,
   "metadata": {},
   "outputs": [],
   "source": [
    "import os\n",
    "import numpy as np\n",
    "import pandas as pd\n",
    "from data_helper import predict_15k, save_hist, save_model\n",
    "\n",
    "### Save history\n",
    "save_hist(History1, outPath)\n",
    "### Save model\n",
    "#save_model(model_ex1, outPath)\n",
    "# Retain best model\n",
    "#from keras import models\n",
    "#model_ex1 = models.load_model(outPath + \"weights.hdf5\")"
   ]
  },
  {
   "cell_type": "markdown",
   "metadata": {},
   "source": [
    "## Independent Test"
   ]
  },
  {
   "cell_type": "code",
   "execution_count": null,
   "metadata": {},
   "outputs": [],
   "source": [
    "all_records = []\n",
    "\n",
    "records = predict_15k(outPath, testPath, outPath, \n",
    "                      r\"FTest1_input_inv.png\", r\"FTest1_output_inv.png\")\n",
    "all_records.extend(records)\n",
    "\n",
    "records = predict_15k(outPath, testPath, outPath, \n",
    "                      r\"FTest2_input_inv.png\", r\"FTest2_output_inv.png\")\n",
    "all_records.extend(records)\n",
    "\n",
    "df = pd.DataFrame(np.transpose(all_records))\n",
    "df.columns = [\"Input vs Target (Test1)\", \"Prediction vs Target (Test1)\", \n",
    "              \"Input vs Target (Test2)\", \"Prediction vs Target (Test2)\"]\n",
    "\n",
    "df = df.rename({0: \"Accuracy\", 1: 'IoU'})\n",
    "df.index.name = 'Metrics'\n",
    "df"
   ]
  },
  {
   "cell_type": "code",
   "execution_count": null,
   "metadata": {},
   "outputs": [],
   "source": []
  }
 ],
 "metadata": {
  "kernelspec": {
   "display_name": "Python 3",
   "language": "python",
   "name": "python3"
  },
  "language_info": {
   "codemirror_mode": {
    "name": "ipython",
    "version": 3
   },
   "file_extension": ".py",
   "mimetype": "text/x-python",
   "name": "python",
   "nbconvert_exporter": "python",
   "pygments_lexer": "ipython3",
   "version": "3.5.2"
  }
 },
 "nbformat": 4,
 "nbformat_minor": 2
}
