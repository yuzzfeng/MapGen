{
 "cells": [
  {
   "cell_type": "code",
   "execution_count": 1,
   "metadata": {},
   "outputs": [
    {
     "name": "stderr",
     "output_type": "stream",
     "text": [
      "Using TensorFlow backend.\n"
     ]
    }
   ],
   "source": [
    "import matplotlib\n",
    "#matplotlib.use('Agg') # necessary for linux kernal\n",
    "%matplotlib inline\n",
    "import matplotlib.pyplot as plt\n",
    "\n",
    "import os\n",
    "import numpy as np\n",
    "import pandas as pd\n",
    "from keras import models\n",
    "from sklearn.metrics import accuracy_score\n",
    "\n",
    "from data_helper import readImg, predict_15k, predict_scale, predict_and_compare"
   ]
  },
  {
   "cell_type": "code",
   "execution_count": 2,
   "metadata": {},
   "outputs": [
    {
     "name": "stdout",
     "output_type": "stream",
     "text": [
      "Input and Target: geb_clip_4270.png geb25_clip_4270.png\n",
      "25k Example: \n",
      "accuracy: 0.98175058548\n",
      "IoU: 0.883636092131\n",
      "Input shape: (2560, 4096)\n",
      "Output shape: (2560, 4096)\n",
      "accuracy: 0.990051937103\n",
      "IoU: 0.936889964456\n"
     ]
    }
   ],
   "source": [
    "testPath = r\"Data/Testing_large/4270/\"\n",
    "tstring = \"2018-07-20 07-53-50_25\"\n",
    "\n",
    "modelPath = r\"Prediction/\"+tstring+\"/\"\n",
    "outPath = modelPath\n",
    "records = predict_and_compare(modelPath, testPath, outPath, scale = 25)"
   ]
  },
  {
   "cell_type": "code",
   "execution_count": 3,
   "metadata": {},
   "outputs": [
    {
     "name": "stdout",
     "output_type": "stream",
     "text": [
      "Input and Target: geb_clip_4270.png geb15_clip_4270.png\n",
      "15k Example: \n",
      "accuracy: 0.990798448478\n",
      "IoU: 0.939490302169\n",
      "Input shape: (2560, 4096)\n",
      "Output shape: (2560, 4096)\n",
      "accuracy: 0.994908428192\n",
      "IoU: 0.967057268608\n"
     ]
    }
   ],
   "source": [
    "testPath = r\"Data/Testing_large/4270/\"\n",
    "tstring = \"2018-07-19 13-13-22_15\"\n",
    "\n",
    "modelPath = r\"Prediction/\"+tstring+\"/\"\n",
    "outPath = modelPath\n",
    "records = predict_and_compare(modelPath, testPath, outPath, scale = 15)"
   ]
  },
  {
   "cell_type": "code",
   "execution_count": 4,
   "metadata": {},
   "outputs": [
    {
     "name": "stdout",
     "output_type": "stream",
     "text": [
      "Input and Target: geb_clip_4270.png geb10_clip_4270.png\n",
      "10k Example: \n",
      "accuracy: 0.994788952722\n",
      "IoU: 0.965207613366\n",
      "Input shape: (2560, 4096)\n",
      "Output shape: (2560, 4096)\n",
      "accuracy: 0.996332931519\n",
      "IoU: 0.97606506478\n"
     ]
    }
   ],
   "source": [
    "testPath = r\"Data/Testing_large/4270/\"\n",
    "tstring = \"2018-07-19 15-14-38_10\"\n",
    "\n",
    "modelPath = r\"Prediction/\"+tstring+\"/\"\n",
    "outPath = modelPath\n",
    "records = predict_and_compare(modelPath, testPath, outPath, scale = 10)"
   ]
  },
  {
   "cell_type": "code",
   "execution_count": null,
   "metadata": {},
   "outputs": [],
   "source": [
    "tmpPath = r\"Prediction/2018-07-17 07-49-01/\"\n",
    "outPath = r\"Prediction/2018-07-17 07-49-01/\"\n",
    "\n",
    "tmpPath = r\"Prediction/2018-07-17 15-56-16/\"\n",
    "outPath = r\"Prediction/2018-07-17 15-56-16/\"\n",
    "\n",
    "tmpPath = r\"Prediction/2018-07-18 15-29-31/\"\n",
    "outPath = r\"Prediction/2018-07-18 15-29-31/\""
   ]
  },
  {
   "cell_type": "code",
   "execution_count": null,
   "metadata": {},
   "outputs": [],
   "source": [
    "# Model from sester\n",
    "\n",
    "testPath = r\"Data/Testing/\"\n",
    "tmpPath = r\"../tmp_data/weights_sester/trainGeb15/\"\n",
    "outPath = r\"../tmp_data/results_sester/Geb15/\"\n",
    "\n",
    "\n",
    "all_records = []\n",
    "\n",
    "records = predict_15k(tmpPath, testPath, outPath, \n",
    "                      r\"FTest1_input_inv.png\", r\"FTest1_output_inv.png\")\n",
    "all_records.extend(records)\n",
    "\n",
    "records = predict_15k(tmpPath, testPath, outPath, \n",
    "                      r\"FTest2_input_inv.png\", r\"FTest2_output_inv.png\")\n",
    "all_records.extend(records)\n",
    "\n",
    "df = pd.DataFrame(np.transpose(all_records))\n",
    "df.columns = [\"Input vs Target (Test1)\", \"Prediction vs Target (Test1)\", \n",
    "              \"Input vs Target (Test2)\", \"Prediction vs Target (Test2)\"]\n",
    "\n",
    "df = df.rename({0: \"Accuracy\", 1: 'IoU'})\n",
    "df.index.name = 'Metrics'\n",
    "df"
   ]
  },
  {
   "cell_type": "code",
   "execution_count": null,
   "metadata": {},
   "outputs": [],
   "source": [
    "# Model from sester\n",
    "\n",
    "all_records = []\n",
    "testPath = r\"Data/Testing_large/4270/\"\n",
    "\n",
    "scale = 25\n",
    "tmpPath = r\"../tmp_data/weights_sester/trainGeb25/\"\n",
    "outPath = r\"../tmp_data/results_sester/Geb25/\"\n",
    "\n",
    "records = predict_scale(tmpPath, testPath, outPath, scale)\n",
    "all_records.extend(records)\n",
    "\n",
    "scale = 15\n",
    "tmpPath = r\"../tmp_data/weights_sester/trainGeb15/\"\n",
    "outPath = r\"../tmp_data/results_sester/Geb15/\"\n",
    "records = predict_scale(tmpPath, testPath, outPath, scale)\n",
    "all_records.extend(records)\n",
    "\n",
    "scale = 10\n",
    "tmpPath = r\"../tmp_data/weights_sester/trainGeb10/\"\n",
    "outPath = r\"../tmp_data/results_sester/Geb10/\"\n",
    "records = predict_scale(tmpPath, testPath, outPath, scale)\n",
    "all_records.extend(records)\n",
    "\n",
    "df = pd.DataFrame(np.transpose(all_records))\n",
    "df.columns = [\"Input vs Target (25k)\", \"Prediction vs Target (25k)\", \n",
    "              \"Input vs Target (15k)\", \"Prediction vs Target (15k)\",\n",
    "              \"Input vs Target (10k)\", \"Prediction vs Target (10k)\"]\n",
    "\n",
    "df = df.rename({0: \"Accuracy\", 1: 'IoU'})\n",
    "df.index.name = 'Metrics'\n",
    "df"
   ]
  },
  {
   "cell_type": "code",
   "execution_count": null,
   "metadata": {},
   "outputs": [],
   "source": []
  },
  {
   "cell_type": "code",
   "execution_count": null,
   "metadata": {},
   "outputs": [],
   "source": [
    "# Model from feng\n",
    "\n",
    "all_records = []\n",
    "testPath = r\"Data/Testing_large/3000/\"\n",
    "\n",
    "scale = 15\n",
    "\n",
    "#tmpPath = r\"../tmp_data/weights_sester/trainGeb15/\"\n",
    "#outPath = r\"../tmp_data/results_sester/Geb15/\"\n",
    "\n",
    "#tmpPath = r\"Prediction/2018-07-17 09-30-11/\"\n",
    "#outPath = r\"Prediction/2018-07-17 09-30-11/\"\n",
    "\n",
    "tmpPath = r\"Prediction/2018-07-18 15-29-31/\"\n",
    "outPath = r\"Prediction/2018-07-18 15-29-31/\"\n",
    "\n",
    "records = predict_scale(tmpPath, testPath, outPath, scale)\n",
    "all_records.extend(records)\n",
    "\n",
    "df = pd.DataFrame(np.transpose(all_records))\n",
    "df.columns = [\"Input vs Target (15k)\", \"Prediction vs Target (15k)\"]\n",
    "\n",
    "df = df.rename({0: \"Accuracy\", 1: 'IoU'})\n",
    "df.index.name = 'Metrics'\n",
    "df"
   ]
  },
  {
   "cell_type": "code",
   "execution_count": null,
   "metadata": {},
   "outputs": [],
   "source": []
  },
  {
   "cell_type": "code",
   "execution_count": null,
   "metadata": {},
   "outputs": [],
   "source": []
  },
  {
   "cell_type": "code",
   "execution_count": null,
   "metadata": {},
   "outputs": [],
   "source": []
  },
  {
   "cell_type": "code",
   "execution_count": null,
   "metadata": {},
   "outputs": [],
   "source": []
  }
 ],
 "metadata": {
  "kernelspec": {
   "display_name": "Python 3",
   "language": "python",
   "name": "python3"
  },
  "language_info": {
   "codemirror_mode": {
    "name": "ipython",
    "version": 3
   },
   "file_extension": ".py",
   "mimetype": "text/x-python",
   "name": "python",
   "nbconvert_exporter": "python",
   "pygments_lexer": "ipython3",
   "version": "3.5.2"
  }
 },
 "nbformat": 4,
 "nbformat_minor": 2
}
