{
 "cells": [
  {
   "cell_type": "code",
   "execution_count": 1,
   "metadata": {},
   "outputs": [
    {
     "name": "stderr",
     "output_type": "stream",
     "text": [
      "Using TensorFlow backend.\n"
     ]
    }
   ],
   "source": [
    "# -*- coding: utf-8 -*-\n",
    "\n",
    "## Map Generalization for Polygons using Autoencode-like strucutures\n",
    "## Adatped based on Master Thesis of SERCAN CAKIR \"ROAD NETWORK EXTRACTION USING CNN\"\n",
    "## Author: Yu Feng, yuzz.feng@gmail.com\n",
    "## 1. Version Author: SERCAN CAKIR\n",
    "\n",
    "## Changes:\n",
    "## 1. Two conv layers were added before the first down convlusional layer\n",
    "## 2. Output can be any size during the evaluation\n",
    "## 3. Adapt the code to support more images as training examples\n",
    "## 4. Dropouot may make the sharpe corners vanishing, we delete half of them, but we should used some\n",
    "## 5. Splilt step for generate training and validation data\n",
    "\n",
    "import matplotlib\n",
    "#matplotlib.use('Agg') # necessary for linux kernal\n",
    "%matplotlib inline\n",
    "import matplotlib.pyplot as plt\n",
    "\n",
    "import os\n",
    "import numpy as np\n",
    "from numpy import random\n",
    "np.random.seed(7)\n",
    "import keras\n",
    "from keras.models import Sequential\n",
    "from keras.callbacks import History\n",
    "from keras.layers.core import Dropout\n",
    "#from keras.layers.convolutional import UpSampling2D, Conv2D\n",
    "from keras.layers import MaxPooling2D, Conv2DTranspose, BatchNormalization, Activation\n",
    "from keras import backend as K\n",
    "\n",
    "from keras.models import Model\n",
    "from keras.layers import Input, Conv2D, Dropout, UpSampling2D, Activation, Concatenate\n",
    "\n",
    "from osgeo import gdal\n",
    "from sklearn.model_selection import train_test_split\n",
    "from skimage.util.shape import view_as_windows\n",
    "\n",
    "from data_helper import readImg, readImgInv, imagePatches, removeBlackImg, removeCorrespondence, check_and_create\n",
    "\n",
    "from time import gmtime, strftime\n",
    "timestr = strftime(\"%Y-%m-%d %H-%M-%S\", gmtime())\n",
    "\n",
    "scale = 25\n",
    "\n",
    "############ Path Setting ##############\n",
    "outPath = r\"Prediction/\"\n",
    "outPath = outPath + timestr + '_' + str(scale)+ \"/\"\n",
    "check_and_create(outPath)"
   ]
  },
  {
   "cell_type": "markdown",
   "metadata": {},
   "source": [
    "## Models"
   ]
  },
  {
   "cell_type": "raw",
   "metadata": {},
   "source": [
    "import keras.backend as K\n",
    "import tensorflow as tf\n",
    "from keras.losses import binary_crossentropy\n",
    "\n",
    "_EPSILON = 10e-8\n",
    "\n",
    "def IoU(yTrue,yPred):  \n",
    "    \n",
    "    I = tf.multiply(yTrue, yPred, name=\"intersection\")\n",
    "    U = yTrue + yPred - I + _EPSILON\n",
    "    \n",
    "    IoU = tf.reduce_sum(I) / tf.reduce_sum(U)\n",
    "    return -tf.log(IoU + _EPSILON) + binary_crossentropy(yTrue,yPred)\n",
    "    \n",
    "    #IoU = tf.divide(I, U, name='IoU')\n",
    "    #L = -tf.log(IoU + _EPSILON)\n",
    "    #return tf.reduce_mean(L)\n",
    "    \n",
    "    \n",
    "def MSE_CROSS(yTrue,yPred):\n",
    "    return binary_crossentropy(yTrue,yPred) + K.abs(K.sum(yTrue) - K.sum(yPred))"
   ]
  },
  {
   "cell_type": "markdown",
   "metadata": {},
   "source": [
    "## Prepare Training Data"
   ]
  },
  {
   "cell_type": "code",
   "execution_count": 2,
   "metadata": {},
   "outputs": [],
   "source": [
    "# Order the image dimension acc. to TensorFlow (batc_hsize, rows, cols, channels)\n",
    "K.set_image_dim_ordering('tf')\n",
    "\n",
    "p_size_1 = 128 # Compared with 256, which larger may generate round corners\n",
    "trainPath = r\"../tmp_data/data_feng/geb\" + str(scale) +  \"/\"\n",
    "\n",
    "# save image patch arrays\n",
    "x_train_sim = np.load(trainPath + \"x_train_sim.npy\")\n",
    "y_train_sim = np.load(trainPath + \"y_train_sim.npy\")\n",
    "x_test_sim = np.load(trainPath + \"x_test_sim.npy\")\n",
    "y_test_sim = np.load(trainPath + \"y_test_sim.npy\")"
   ]
  },
  {
   "cell_type": "code",
   "execution_count": 3,
   "metadata": {},
   "outputs": [
    {
     "name": "stdout",
     "output_type": "stream",
     "text": [
      "Input Shape of the models (31760, 128, 128, 1)\n",
      "Test Shape of the models (3528, 128, 128, 1)\n"
     ]
    },
    {
     "data": {
      "image/png": "[encoded data removed]",
      "text/plain": [
       "<matplotlib.figure.Figure at 0x7fa8abedb710>"
      ]
     },
     "metadata": {},
     "output_type": "display_data"
    },
    {
     "data": {
      "image/png": "[encoded data removed]",
      "text/plain": [
       "<matplotlib.figure.Figure at 0x7fa8abedbc88>"
      ]
     },
     "metadata": {},
     "output_type": "display_data"
    }
   ],
   "source": [
    "plt.figure()\n",
    "plt.imshow(np.reshape(x_test_sim[2], (p_size_1,p_size_1)))\n",
    "plt.figure()\n",
    "plt.imshow(np.reshape(y_test_sim[2], (p_size_1,p_size_1)))\n",
    "\n",
    "input_shape1 = (None, None, 1) #x_train_sim[0].shape\n",
    "print('Input Shape of the models', x_train_sim.shape)\n",
    "print('Test Shape of the models', x_test_sim.shape)"
   ]
  },
  {
   "cell_type": "code",
   "execution_count": 4,
   "metadata": {},
   "outputs": [
    {
     "name": "stdout",
     "output_type": "stream",
     "text": [
      "__________________________________________________________________________________________________\n",
      "Layer (type)                    Output Shape         Param #     Connected to                     \n",
      "==================================================================================================\n",
      "input_1 (InputLayer)            (None, None, None, 1 0                                            \n",
      "__________________________________________________________________________________________________\n",
      "flat_conv_a (Conv2D)            (None, None, None, 2 240         input_1[0][0]                    \n",
      "__________________________________________________________________________________________________\n",
      "flat_conv_b (Conv2D)            (None, None, None, 2 5208        flat_conv_a[0][0]                \n",
      "__________________________________________________________________________________________________\n",
      "down_conv_1 (Conv2D)            (None, None, None, 2 5208        flat_conv_b[0][0]                \n",
      "__________________________________________________________________________________________________\n",
      "flat_conv_1 (Conv2D)            (None, None, None, 6 13888       down_conv_1[0][0]                \n",
      "__________________________________________________________________________________________________\n",
      "flat_conv_2 (Conv2D)            (None, None, None, 6 36928       flat_conv_1[0][0]                \n",
      "__________________________________________________________________________________________________\n",
      "down_conv_2 (Conv2D)            (None, None, None, 6 36928       flat_conv_2[0][0]                \n",
      "__________________________________________________________________________________________________\n",
      "flat_conv_3 (Conv2D)            (None, None, None, 1 73856       down_conv_2[0][0]                \n",
      "__________________________________________________________________________________________________\n",
      "flat_conv_4 (Conv2D)            (None, None, None, 1 147584      flat_conv_3[0][0]                \n",
      "__________________________________________________________________________________________________\n",
      "xx_conv_3 (Conv2D)              (None, None, None, 1 147584      flat_conv_4[0][0]                \n",
      "__________________________________________________________________________________________________\n",
      "flat_conv_5 (Conv2D)            (None, None, None, 2 295168      xx_conv_3[0][0]                  \n",
      "__________________________________________________________________________________________________\n",
      "flat_conv_6 (Conv2D)            (None, None, None, 2 590080      flat_conv_5[0][0]                \n",
      "__________________________________________________________________________________________________\n",
      "flat_conv_7 (Conv2D)            (None, None, None, 2 590080      flat_conv_6[0][0]                \n",
      "__________________________________________________________________________________________________\n",
      "dropout_1 (Dropout)             (None, None, None, 2 0           flat_conv_7[0][0]                \n",
      "__________________________________________________________________________________________________\n",
      "xx_conv_0 (Conv2D)              (None, None, None, 1 295040      dropout_1[0][0]                  \n",
      "__________________________________________________________________________________________________\n",
      "flat_conv_8 (Conv2D)            (None, None, None, 1 147584      xx_conv_0[0][0]                  \n",
      "__________________________________________________________________________________________________\n",
      "flat_conv_8b (Conv2D)           (None, None, None, 1 147584      flat_conv_8[0][0]                \n",
      "__________________________________________________________________________________________________\n",
      "up_samp_1 (UpSampling2D)        (None, None, None, 1 0           flat_conv_8b[0][0]               \n",
      "__________________________________________________________________________________________________\n",
      "up_conv_1 (Conv2D)              (None, None, None, 6 131136      up_samp_1[0][0]                  \n",
      "__________________________________________________________________________________________________\n",
      "concatenate_1 (Concatenate)     (None, None, None, 1 0           flat_conv_2[0][0]                \n",
      "                                                                 up_conv_1[0][0]                  \n",
      "__________________________________________________________________________________________________\n",
      "flat_conv_9 (Conv2D)            (None, None, None, 6 8256        concatenate_1[0][0]              \n",
      "__________________________________________________________________________________________________\n",
      "flat_conv_10 (Conv2D)           (None, None, None, 6 36928       flat_conv_9[0][0]                \n",
      "__________________________________________________________________________________________________\n",
      "up_samp_2 (UpSampling2D)        (None, None, None, 6 0           flat_conv_10[0][0]               \n",
      "__________________________________________________________________________________________________\n",
      "up_conv_2 (Conv2D)              (None, None, None, 2 24600       up_samp_2[0][0]                  \n",
      "__________________________________________________________________________________________________\n",
      "concatenate_2 (Concatenate)     (None, None, None, 4 0           flat_conv_b[0][0]                \n",
      "                                                                 up_conv_2[0][0]                  \n",
      "__________________________________________________________________________________________________\n",
      "flat_conv_11 (Conv2D)           (None, None, None, 1 588         concatenate_2[0][0]              \n",
      "__________________________________________________________________________________________________\n",
      "flat_conv_11b (Conv2D)          (None, None, None, 1 1308        flat_conv_11[0][0]               \n",
      "__________________________________________________________________________________________________\n",
      "flat_conv_12 (Conv2D)           (None, None, None, 1 109         flat_conv_11b[0][0]              \n",
      "==================================================================================================\n",
      "Total params: 2,735,885\n",
      "Trainable params: 2,735,885\n",
      "Non-trainable params: 0\n",
      "__________________________________________________________________________________________________\n"
     ]
    }
   ],
   "source": [
    "from kmodels import create_model_add_skips_2\n",
    "\n",
    "opt1 = keras.optimizers.Adadelta(lr=1.0, rho=0.95, epsilon=1e-08, decay=0.0)\n",
    "#opt1 = keras.optimizers.RMSprop(lr=0.001, rho=0.9, epsilon=None, decay=0.0)\n",
    "\n",
    "#model_ex1 = create_model(opt1, input_shape1)\n",
    "#model_ex1 = create_model_batch(opt1, input_shape1) # Not good as the skip connection\n",
    "#model_ex1 = create_model_add_skips(opt1, input_shape1)\n",
    "#model_ex1 = create_model_add_skips_3(opt1, input_shape1) # Add max pool but not better\n",
    "\n",
    "\n",
    "model_ex1 = create_model_add_skips_2(opt1, input_shape1)\n",
    "\n",
    "model_ex1.summary()"
   ]
  },
  {
   "cell_type": "code",
   "execution_count": 5,
   "metadata": {},
   "outputs": [],
   "source": [
    "import itertools\n",
    "from keras.preprocessing.image import ImageDataGenerator\n",
    "from keras.callbacks import EarlyStopping, ReduceLROnPlateau, ModelCheckpoint"
   ]
  },
  {
   "cell_type": "code",
   "execution_count": 6,
   "metadata": {},
   "outputs": [
    {
     "name": "stdout",
     "output_type": "stream",
     "text": [
      "Epoch 1/100\n",
      "2000/2000 [==============================] - 166s 83ms/step - loss: 0.0842 - acc: 0.9558 - val_loss: 0.0702 - val_acc: 0.9788\n",
      "Epoch 2/100\n",
      "2000/2000 [==============================] - 167s 84ms/step - loss: 0.0693 - acc: 0.9599 - val_loss: 0.0634 - val_acc: 0.9803\n",
      "Epoch 3/100\n",
      "2000/2000 [==============================] - 170s 85ms/step - loss: 0.0654 - acc: 0.9606 - val_loss: 0.0592 - val_acc: 0.9813\n",
      "Epoch 4/100\n",
      "2000/2000 [==============================] - 171s 85ms/step - loss: 0.0625 - acc: 0.9614 - val_loss: 0.0560 - val_acc: 0.9821\n",
      "Epoch 5/100\n",
      "2000/2000 [==============================] - 171s 85ms/step - loss: 0.0601 - acc: 0.9620 - val_loss: 0.0543 - val_acc: 0.9828\n",
      "Epoch 6/100\n",
      "2000/2000 [==============================] - 171s 85ms/step - loss: 0.0592 - acc: 0.9623 - val_loss: 0.0526 - val_acc: 0.9833\n",
      "Epoch 7/100\n",
      "2000/2000 [==============================] - 171s 85ms/step - loss: 0.0581 - acc: 0.9626 - val_loss: 0.0518 - val_acc: 0.9834\n",
      "Epoch 8/100\n",
      "2000/2000 [==============================] - 171s 85ms/step - loss: 0.0572 - acc: 0.9628 - val_loss: 0.0510 - val_acc: 0.9839\n",
      "Epoch 9/100\n",
      "2000/2000 [==============================] - 172s 86ms/step - loss: 0.0566 - acc: 0.9631 - val_loss: 0.0524 - val_acc: 0.9830\n",
      "Epoch 10/100\n",
      "2000/2000 [==============================] - 172s 86ms/step - loss: 0.0561 - acc: 0.9632 - val_loss: 0.0509 - val_acc: 0.9841\n",
      "Epoch 11/100\n",
      "2000/2000 [==============================] - 171s 86ms/step - loss: 0.0557 - acc: 0.9634 - val_loss: 0.0491 - val_acc: 0.9843\n",
      "Epoch 12/100\n",
      "2000/2000 [==============================] - 172s 86ms/step - loss: 0.0549 - acc: 0.9635 - val_loss: 0.0485 - val_acc: 0.9845\n",
      "Epoch 13/100\n",
      "2000/2000 [==============================] - 171s 86ms/step - loss: 0.0549 - acc: 0.9635 - val_loss: 0.0493 - val_acc: 0.9845\n",
      "Epoch 14/100\n",
      "2000/2000 [==============================] - 173s 86ms/step - loss: 0.0548 - acc: 0.9635 - val_loss: 0.0485 - val_acc: 0.9845\n",
      "Epoch 15/100\n",
      "2000/2000 [==============================] - 171s 86ms/step - loss: 0.0545 - acc: 0.9637 - val_loss: 0.0482 - val_acc: 0.9845\n",
      "Epoch 16/100\n",
      "2000/2000 [==============================] - 172s 86ms/step - loss: 0.0540 - acc: 0.9637 - val_loss: 0.0481 - val_acc: 0.9847\n",
      "Epoch 17/100\n",
      "2000/2000 [==============================] - 172s 86ms/step - loss: 0.0536 - acc: 0.9639 - val_loss: 0.0473 - val_acc: 0.9849\n",
      "Epoch 18/100\n",
      "2000/2000 [==============================] - 171s 86ms/step - loss: 0.0539 - acc: 0.9639 - val_loss: 0.0478 - val_acc: 0.9847\n",
      "Epoch 19/100\n",
      "2000/2000 [==============================] - 170s 85ms/step - loss: 0.0532 - acc: 0.9640 - val_loss: 0.0476 - val_acc: 0.9850\n",
      "Epoch 20/100\n",
      "2000/2000 [==============================] - 170s 85ms/step - loss: 0.0535 - acc: 0.9640 - val_loss: 0.0465 - val_acc: 0.9853\n",
      "Epoch 21/100\n",
      "2000/2000 [==============================] - 171s 85ms/step - loss: 0.0531 - acc: 0.9640 - val_loss: 0.0469 - val_acc: 0.9852\n",
      "Epoch 22/100\n",
      "2000/2000 [==============================] - 170s 85ms/step - loss: 0.0531 - acc: 0.9640 - val_loss: 0.0471 - val_acc: 0.9853\n",
      "Epoch 23/100\n",
      "2000/2000 [==============================] - 170s 85ms/step - loss: 0.0525 - acc: 0.9643 - val_loss: 0.0470 - val_acc: 0.9853\n",
      "Epoch 24/100\n",
      "2000/2000 [==============================] - 170s 85ms/step - loss: 0.0517 - acc: 0.9644 - val_loss: 0.0455 - val_acc: 0.9856\n",
      "Epoch 25/100\n",
      "2000/2000 [==============================] - 171s 85ms/step - loss: 0.0511 - acc: 0.9646 - val_loss: 0.0454 - val_acc: 0.9856\n",
      "Epoch 26/100\n",
      "2000/2000 [==============================] - 171s 85ms/step - loss: 0.0515 - acc: 0.9645 - val_loss: 0.0453 - val_acc: 0.9857\n",
      "Epoch 27/100\n",
      "2000/2000 [==============================] - 170s 85ms/step - loss: 0.0513 - acc: 0.9646 - val_loss: 0.0452 - val_acc: 0.9857\n",
      "Epoch 28/100\n",
      "2000/2000 [==============================] - 171s 85ms/step - loss: 0.0513 - acc: 0.9646 - val_loss: 0.0452 - val_acc: 0.9857\n",
      "Epoch 29/100\n",
      "2000/2000 [==============================] - 170s 85ms/step - loss: 0.0510 - acc: 0.9646 - val_loss: 0.0451 - val_acc: 0.9857\n",
      "Epoch 30/100\n",
      "2000/2000 [==============================] - 170s 85ms/step - loss: 0.0513 - acc: 0.9646 - val_loss: 0.0451 - val_acc: 0.9857\n",
      "Epoch 31/100\n",
      "2000/2000 [==============================] - 170s 85ms/step - loss: 0.0512 - acc: 0.9645 - val_loss: 0.0454 - val_acc: 0.9857\n",
      "Epoch 32/100\n",
      "2000/2000 [==============================] - 171s 85ms/step - loss: 0.0511 - acc: 0.9646 - val_loss: 0.0450 - val_acc: 0.9858\n",
      "Epoch 33/100\n",
      "2000/2000 [==============================] - 170s 85ms/step - loss: 0.0506 - acc: 0.9649 - val_loss: 0.0450 - val_acc: 0.9858\n",
      "Epoch 34/100\n",
      "2000/2000 [==============================] - 170s 85ms/step - loss: 0.0511 - acc: 0.9646 - val_loss: 0.0450 - val_acc: 0.9858\n",
      "Epoch 35/100\n",
      "2000/2000 [==============================] - 170s 85ms/step - loss: 0.0511 - acc: 0.9647 - val_loss: 0.0450 - val_acc: 0.9858\n",
      "Epoch 36/100\n",
      "2000/2000 [==============================] - 171s 86ms/step - loss: 0.0510 - acc: 0.9646 - val_loss: 0.0450 - val_acc: 0.9858\n",
      "Epoch 37/100\n",
      "2000/2000 [==============================] - 169s 85ms/step - loss: 0.0508 - acc: 0.9647 - val_loss: 0.0449 - val_acc: 0.9858\n",
      "Epoch 38/100\n",
      "2000/2000 [==============================] - 170s 85ms/step - loss: 0.0506 - acc: 0.9648 - val_loss: 0.0449 - val_acc: 0.9858\n",
      "Epoch 39/100\n",
      "2000/2000 [==============================] - 170s 85ms/step - loss: 0.0514 - acc: 0.9646 - val_loss: 0.0449 - val_acc: 0.9858\n",
      "Epoch 40/100\n",
      "2000/2000 [==============================] - 170s 85ms/step - loss: 0.0506 - acc: 0.9647 - val_loss: 0.0449 - val_acc: 0.9858\n",
      "Epoch 41/100\n",
      "2000/2000 [==============================] - 170s 85ms/step - loss: 0.0509 - acc: 0.9647 - val_loss: 0.0449 - val_acc: 0.9858\n",
      "Epoch 42/100\n",
      "2000/2000 [==============================] - 170s 85ms/step - loss: 0.0510 - acc: 0.9647 - val_loss: 0.0449 - val_acc: 0.9858\n",
      "Epoch 43/100\n",
      "2000/2000 [==============================] - 170s 85ms/step - loss: 0.0511 - acc: 0.9645 - val_loss: 0.0449 - val_acc: 0.9858\n",
      "Epoch 44/100\n",
      "2000/2000 [==============================] - 169s 85ms/step - loss: 0.0509 - acc: 0.9648 - val_loss: 0.0449 - val_acc: 0.9858\n",
      "Epoch 45/100\n",
      "2000/2000 [==============================] - 170s 85ms/step - loss: 0.0508 - acc: 0.9646 - val_loss: 0.0449 - val_acc: 0.9858\n",
      "Epoch 46/100\n",
      "2000/2000 [==============================] - 169s 85ms/step - loss: 0.0506 - acc: 0.9649 - val_loss: 0.0449 - val_acc: 0.9858\n",
      "Epoch 47/100\n",
      "2000/2000 [==============================] - 170s 85ms/step - loss: 0.0512 - acc: 0.9645 - val_loss: 0.0449 - val_acc: 0.9858\n",
      "Epoch 48/100\n",
      "2000/2000 [==============================] - 171s 85ms/step - loss: 0.0511 - acc: 0.9647 - val_loss: 0.0449 - val_acc: 0.9858\n",
      "Epoch 49/100\n",
      "2000/2000 [==============================] - 170s 85ms/step - loss: 0.0504 - acc: 0.9648 - val_loss: 0.0449 - val_acc: 0.9858\n"
     ]
    }
   ],
   "source": [
    "data_gen_args = dict(rotation_range=180.)\n",
    "\n",
    "image_datagen = ImageDataGenerator(**data_gen_args)\n",
    "mask_datagen = ImageDataGenerator(**data_gen_args)\n",
    "\n",
    "seed = 1\n",
    "BATCH_SIZE = 16\n",
    "result_generator = zip(image_datagen.flow(x_train_sim, batch_size=BATCH_SIZE, seed=seed), \n",
    "                       mask_datagen.flow(y_train_sim, batch_size=BATCH_SIZE, seed=seed))\n",
    "\n",
    "History1 = History()\n",
    "hist1 = model_ex1.fit_generator(  result_generator,\n",
    "                                  epochs = 100,\n",
    "                                  steps_per_epoch=2000,\n",
    "                                  verbose=1,\n",
    "                                  shuffle=True,\n",
    "                                  callbacks=[History1, \n",
    "                                             EarlyStopping(patience=10), \n",
    "                                             ReduceLROnPlateau(patience = 3, verbose = 0),\n",
    "                                             ModelCheckpoint(outPath + \"weights.hdf5\", \n",
    "                                                             save_best_only = True, \n",
    "                                                             save_weights_only = False)],\n",
    "                                  validation_data=(x_test_sim, y_test_sim))"
   ]
  },
  {
   "cell_type": "markdown",
   "metadata": {},
   "source": [
    "## Training"
   ]
  },
  {
   "cell_type": "raw",
   "metadata": {
    "scrolled": false
   },
   "source": [
    "##### Train the model with out generator\n",
    "History1 = History()\n",
    "hist1 = model_ex1.fit(x_train_sim, y_train_sim,\n",
    "                      batch_size=16,\n",
    "                      epochs = 50,\n",
    "                      verbose=1,\n",
    "                      shuffle=True,\n",
    "                      callbacks=[History1, \n",
    "                                 EarlyStopping(patience = 10), \n",
    "                                 ReduceLROnPlateau(patience = 3, verbose = 0),\n",
    "                                 ModelCheckpoint(outPath + \"weights.hdf5\", \n",
    "                                                 save_best_only = True, \n",
    "                                                 save_weights_only = False)],\n",
    "                      validation_data=(x_test_sim, y_test_sim))"
   ]
  },
  {
   "cell_type": "code",
   "execution_count": 7,
   "metadata": {},
   "outputs": [
    {
     "data": {
      "image/png": "[encoded data removed]",
      "text/plain": [
       "<matplotlib.figure.Figure at 0x7fa795fafbe0>"
      ]
     },
     "metadata": {},
     "output_type": "display_data"
    },
    {
     "data": {
      "image/png": "[encoded data removed]",
      "text/plain": [
       "<matplotlib.figure.Figure at 0x7fa78c706278>"
      ]
     },
     "metadata": {},
     "output_type": "display_data"
    }
   ],
   "source": [
    "import os\n",
    "import numpy as np\n",
    "import pandas as pd\n",
    "from data_helper import predict_15k, save_hist, save_model\n",
    "\n",
    "### Save history\n",
    "save_hist(History1, outPath)\n",
    "### Save model\n",
    "#save_model(model_ex1, outPath)\n",
    "# Retain best model\n",
    "#from keras import models\n",
    "#model_ex1 = models.load_model(outPath + \"weights.hdf5\")"
   ]
  },
  {
   "cell_type": "markdown",
   "metadata": {},
   "source": [
    "## Independent Test"
   ]
  },
  {
   "cell_type": "code",
   "execution_count": 8,
   "metadata": {},
   "outputs": [
    {
     "name": "stdout",
     "output_type": "stream",
     "text": [
      "15k Example: \n",
      "accuracy: 0.976413099134\n",
      "IoU: 0.885579034522\n",
      "accuracy: 0.977196557971\n",
      "IoU: 0.891215498461\n",
      "15k Example: \n",
      "accuracy: 0.982896331738\n",
      "IoU: 0.926101517386\n",
      "accuracy: 0.987502584781\n",
      "IoU: 0.945999525332\n"
     ]
    },
    {
     "data": {
      "text/html": [
       "<div>\n",
       "<style scoped>\n",
       "    .dataframe tbody tr th:only-of-type {\n",
       "        vertical-align: middle;\n",
       "    }\n",
       "\n",
       "    .dataframe tbody tr th {\n",
       "        vertical-align: top;\n",
       "    }\n",
       "\n",
       "    .dataframe thead th {\n",
       "        text-align: right;\n",
       "    }\n",
       "</style>\n",
       "<table border=\"1\" class=\"dataframe\">\n",
       "  <thead>\n",
       "    <tr style=\"text-align: right;\">\n",
       "      <th></th>\n",
       "      <th>Input vs Target (Test1)</th>\n",
       "      <th>Prediction vs Target (Test1)</th>\n",
       "      <th>Input vs Target (Test2)</th>\n",
       "      <th>Prediction vs Target (Test2)</th>\n",
       "    </tr>\n",
       "    <tr>\n",
       "      <th>Metrics</th>\n",
       "      <th></th>\n",
       "      <th></th>\n",
       "      <th></th>\n",
       "      <th></th>\n",
       "    </tr>\n",
       "  </thead>\n",
       "  <tbody>\n",
       "    <tr>\n",
       "      <th>Accuracy</th>\n",
       "      <td>0.976413</td>\n",
       "      <td>0.977197</td>\n",
       "      <td>0.982896</td>\n",
       "      <td>0.987503</td>\n",
       "    </tr>\n",
       "    <tr>\n",
       "      <th>IoU</th>\n",
       "      <td>0.885579</td>\n",
       "      <td>0.891215</td>\n",
       "      <td>0.926102</td>\n",
       "      <td>0.946000</td>\n",
       "    </tr>\n",
       "  </tbody>\n",
       "</table>\n",
       "</div>"
      ],
      "text/plain": [
       "          Input vs Target (Test1)  Prediction vs Target (Test1)  \\\n",
       "Metrics                                                           \n",
       "Accuracy                 0.976413                      0.977197   \n",
       "IoU                      0.885579                      0.891215   \n",
       "\n",
       "          Input vs Target (Test2)  Prediction vs Target (Test2)  \n",
       "Metrics                                                          \n",
       "Accuracy                 0.982896                      0.987503  \n",
       "IoU                      0.926102                      0.946000  "
      ]
     },
     "execution_count": 8,
     "metadata": {},
     "output_type": "execute_result"
    },
    {
     "data": {
      "image/png": "[encoded data removed]",
      "text/plain": [
       "<matplotlib.figure.Figure at 0x7fa78c648630>"
      ]
     },
     "metadata": {},
     "output_type": "display_data"
    },
    {
     "data": {
      "image/png": "[encoded data removed]",
      "text/plain": [
       "<matplotlib.figure.Figure at 0x7fa78c7f5630>"
      ]
     },
     "metadata": {},
     "output_type": "display_data"
    },
    {
     "data": {
      "image/png": "[encoded data removed]",
      "text/plain": [
       "<matplotlib.figure.Figure at 0x7fa71452cbe0>"
      ]
     },
     "metadata": {},
     "output_type": "display_data"
    },
    {
     "data": {
      "image/png": "[encoded data removed]",
      "text/plain": [
       "<matplotlib.figure.Figure at 0x7fa700527f98>"
      ]
     },
     "metadata": {},
     "output_type": "display_data"
    }
   ],
   "source": [
    "testPath = r\"Data/Testing/\"\n",
    "\n",
    "all_records = []\n",
    "\n",
    "records = predict_15k(outPath, testPath, outPath, \n",
    "                      r\"FTest1_input_inv.png\", r\"FTest1_output_inv.png\")\n",
    "all_records.extend(records)\n",
    "\n",
    "records = predict_15k(outPath, testPath, outPath, \n",
    "                      r\"FTest2_input_inv.png\", r\"FTest2_output_inv.png\")\n",
    "all_records.extend(records)\n",
    "\n",
    "df = pd.DataFrame(np.transpose(all_records))\n",
    "df.columns = [\"Input vs Target (Test1)\", \"Prediction vs Target (Test1)\", \n",
    "              \"Input vs Target (Test2)\", \"Prediction vs Target (Test2)\"]\n",
    "\n",
    "df = df.rename({0: \"Accuracy\", 1: 'IoU'})\n",
    "df.index.name = 'Metrics'\n",
    "df"
   ]
  },
  {
   "cell_type": "code",
   "execution_count": null,
   "metadata": {},
   "outputs": [],
   "source": []
  }
 ],
 "metadata": {
  "kernelspec": {
   "display_name": "Python 3",
   "language": "python",
   "name": "python3"
  },
  "language_info": {
   "codemirror_mode": {
    "name": "ipython",
    "version": 3
   },
   "file_extension": ".py",
   "mimetype": "text/x-python",
   "name": "python",
   "nbconvert_exporter": "python",
   "pygments_lexer": "ipython3",
   "version": "3.5.2"
  }
 },
 "nbformat": 4,
 "nbformat_minor": 2
}
