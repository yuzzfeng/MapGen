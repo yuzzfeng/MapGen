{
 "cells": [
  {
   "cell_type": "markdown",
   "metadata": {},
   "source": [
    "# Evaluation for MapGen models"
   ]
  },
  {
   "cell_type": "code",
   "execution_count": 1,
   "metadata": {},
   "outputs": [
    {
     "name": "stderr",
     "output_type": "stream",
     "text": [
      "/usr/local/lib/python3.5/dist-packages/h5py/__init__.py:36: FutureWarning: Conversion of the second argument of issubdtype from `float` to `np.floating` is deprecated. In future, it will be treated as `np.float64 == np.dtype(float).type`.\n",
      "  from ._conv import register_converters as _register_converters\n",
      "Using TensorFlow backend.\n"
     ]
    }
   ],
   "source": [
    "import matplotlib\n",
    "#matplotlib.use('Agg') # necessary for linux kernal\n",
    "%matplotlib inline\n",
    "import matplotlib.pyplot as plt\n",
    "\n",
    "import os\n",
    "import numpy as np\n",
    "import pandas as pd\n",
    "\n",
    "from keras import models\n",
    "from keras.models import load_model\n",
    "from keras.layers import Input\n",
    "from keras.models import Model\n",
    "\n",
    "from mapgenlib.eval import predict_eval, predict_only\n",
    "\n",
    "def update_gan_generator_to_any_size(old_model):\n",
    "    # Remove the top layer and add input with no limit\n",
    "    old_model.layers.pop(0) \n",
    "    newInput = Input(shape=(None, None, 1)) # New image input\n",
    "    newOutputs = old_model(newInput)\n",
    "    newModel = Model(newInput, newOutputs)\n",
    "\n",
    "    return newModel"
   ]
  },
  {
   "cell_type": "raw",
   "metadata": {},
   "source": [
    "if 1:\n",
    "    import numpy as np\n",
    "    print(np.__version__)\n",
    "    import keras\n",
    "    print(keras.__version__)\n",
    "    import tensorflow as tf\n",
    "    print(tf.__version__)\n",
    "    from osgeo import gdal\n",
    "    print(gdal.__version__)\n",
    "    import osgeo\n",
    "    print(osgeo.__version__)\n",
    "\n",
    "    import sys\n",
    "    print(sys.version)\n",
    "    print(sys.version_info)"
   ]
  },
  {
   "cell_type": "code",
   "execution_count": null,
   "metadata": {},
   "outputs": [],
   "source": [
    "if 0: # Final GAN with ImageGAN 100 - \n",
    "    \n",
    "    \"\"\"\n",
    "    finished and contribute to Table 1 with the numbers 1.294219, 0.613663, 0.353559\n",
    "    finished and contribute to Table 2 with the numbers 0.975242, 0.819052\n",
    "    \"\"\"\n",
    "\n",
    "    #scale = 25\n",
    "    #modelPath = '../tmp_results/predictions/U128GAN_2019-03-17 08-40-07_25/'\n",
    "    #out_evaluation = r\"../tmp_results/Evaluations/ImageGAN100_25k/\"\n",
    "    #modelname = \"model_epoch15.h5\"\n",
    "    \n",
    "    \"\"\"\n",
    "    Accuracy\t97.482847\t98.705781\t98.676250\n",
    "    Error\t2.517153\t1.294219(1st run)\t1.323750\n",
    "    IoU\t87.757504\t93.537019\t93.399459\n",
    "    \"\"\"\n",
    "    \n",
    "    #scale = 15\n",
    "    #modelPath = '../tmp_results/predictions/U128GAN_2019-03-19 18-33-51_15/'\n",
    "    #out_evaluation = r\"../tmp_results/Evaluations/ImageGAN100_15k/\"\n",
    "    #modelname = \"model_epoch20.h5\"\n",
    "    \n",
    "    \"\"\"\n",
    "    Accuracy\t98.644913\t99.378125\t99.386337\n",
    "    Error\t1.355087\t0.621875\t0.613663 (1st run)\n",
    "    IoU\t93.209151\t96.833191\t96.873516\n",
    "    \"\"\"\n",
    "    \n",
    "    \"\"\"\n",
    "    Test 1\n",
    "    Accuracy\t97.641310\t99.024758\t98.858696\n",
    "    Error\t2.358690\t0.975242(1st run)\t1.141304\n",
    "    IoU\t88.557903\t95.191753\t94.398548\n",
    "    \"\"\"\n",
    "    \n",
    "    \"\"\"\n",
    "    Test 2\n",
    "    Accuracy\t98.073852\t99.180948\t99.196069\n",
    "    Error\t1.926148\t0.819052(1st run)\t0.803931\n",
    "    IoU\t93.227646\t97.079064\t97.131958\n",
    "    \"\"\"\n",
    "    \n",
    "    #scale = 10\n",
    "    #modelPath = '../tmp_results/predictions/U128GAN_2019-03-16 10-41-20_10/'\n",
    "    #out_evaluation = r\"../tmp_results/Evaluations/ImageGAN100_10k/\"\n",
    "    #modelname = \"model_epoch29.h5\"\n",
    "    \n",
    "    \"\"\"\n",
    "    Accuracy\t99.260399\t99.646441\t99.639653\n",
    "    Error\t0.739601\t0.353559(1st run)\t0.360347\n",
    "    IoU\t96.226704\t98.179455\t98.145219\n",
    "    \"\"\"\n",
    "    \n",
    "    saved_model = models.load_model(modelPath + modelname)\n",
    "    saved_model = update_gan_generator_to_any_size(saved_model)"
   ]
  },
  {
   "cell_type": "code",
   "execution_count": null,
   "metadata": {},
   "outputs": [],
   "source": [
    "if 0: # Final Residual U-net with l2 loss and Adam 0.0004\n",
    "    \n",
    "    \"\"\"\n",
    "    finished and contribute to Table 1 with the numbers 1.158906, 0.489878, 0.315556\n",
    "    finished and contribute to Table 2 with the numbers 0.885039, 0.715006\n",
    "    \"\"\"\n",
    "    \n",
    "    #scale = 25\n",
    "    #modelPath = '../tmp_results/predictions/2019-02-28 11-05-31_25/' \n",
    "    #out_evaluation = r\"../tmp_results/Evaluations/Runet_25k/\"\n",
    "    \n",
    "    \"\"\"\n",
    "    Accuracy\t97.482847\t98.841094\t98.794497\n",
    "    Error\t2.517153\t1.158906\t1.205503\n",
    "    IoU\t87.757504\t94.188367\t93.970965\n",
    "    \"\"\"\n",
    "    \n",
    "    #scale = 15\n",
    "    #modelPath = '../tmp_results/predictions/2019-02-26 12-55-00_15/' \n",
    "    #out_evaluation = r\"../tmp_results/Evaluations/Runet_15k/\"\n",
    "    \n",
    "    \"\"\"\n",
    "    Accuracy\t98.644913\t99.510122\t99.503802\n",
    "    Error\t1.355087\t0.489878\t0.496198\n",
    "    IoU\t93.209151\t97.497501\t97.465985\n",
    "    \n",
    "    Test 1\n",
    "    Accuracy\t97.641310\t99.114961\t99.003246\n",
    "    Error\t2.358690\t0.885039\t0.996754\n",
    "    IoU\t88.557903\t95.629973\t95.091717\n",
    "\n",
    "    Test 2\n",
    "    Accuracy\t98.073852\t99.284994\t99.293995\n",
    "    Error\t1.926148\t0.715006\t0.706005\n",
    "    IoU\t93.227646\t97.447957\t97.481571\n",
    "    \"\"\"\n",
    "    \n",
    "    #scale = 10\n",
    "    #modelPath = '../tmp_results/predictions/U128_2019-03-10 12-26-47_10/'\n",
    "    #out_evaluation = r\"../tmp_results/Evaluations/Runet_10k/\"\n",
    "    \n",
    "    \"\"\"\n",
    "    Accuracy\t99.260399\t99.684444\t99.678281\n",
    "    Error\t0.739601\t0.315556\t0.321719\n",
    "    IoU\t96.226704\t98.374257\t98.342913\n",
    "    \"\"\"\n",
    "\n",
    "    modelname = \"weights.h5\"\n",
    "    saved_model = load_model(modelPath + modelname)\n",
    "    saved_model = update_gan_generator_to_any_size(saved_model)"
   ]
  },
  {
   "cell_type": "code",
   "execution_count": null,
   "metadata": {},
   "outputs": [],
   "source": [
    "if 0: # Final U-net from Yu\n",
    "    \n",
    "    \"\"\"\n",
    "    finished and contribute to Table 1 with the numbers 1.357396, 0.713767, 0.495642\n",
    "    finished and contribute to Table 2 with the numbers 1.115263, 0.897537\n",
    "    \"\"\"\n",
    "        \n",
    "    #scale = 25\n",
    "    #modelPath = '../tmp_results/predictions/2018-07-20 07-53-50_25/'\n",
    "    #out_evaluation = r\"../tmp_results/Evaluations/Unet_25k/\"\n",
    "    \n",
    "    \"\"\"\n",
    "    Accuracy\t97.482847\t98.642604\t98.620330\n",
    "    Error\t2.517153\t1.357396\t1.379670\n",
    "    IoU\t87.757504\t93.244774\t93.146684\n",
    "    \"\"\"\n",
    "    \n",
    "    #scale = 15\n",
    "    #modelPath = '../tmp_results/predictions/2018-07-19 13-13-22_15/'\n",
    "    #out_evaluation = r\"../tmp_results/Evaluations/Unet_15k/\"\n",
    "    \n",
    "    \"\"\"\n",
    "    Accuracy\t98.644913\t99.286233\t99.282378\n",
    "    Error\t1.355087\t0.713767\t0.717622\n",
    "    IoU\t93.209151\t96.376403\t96.359622\n",
    "\n",
    "    Test 1\n",
    "    Accuracy\t97.641310\t98.884737\t98.871150\n",
    "    Error\t2.358690\t1.115263\t1.128850\n",
    "    IoU\t88.557903\t94.528994\t94.462547\n",
    "    \n",
    "    Test 2\n",
    "    Accuracy\t98.073852\t99.102463\t99.002376\n",
    "    Error\t1.926148\t0.897537\t0.997624\n",
    "    IoU\t93.227646\t96.812102\t96.466102\n",
    "    \"\"\"\n",
    "    \n",
    "    #scale = 10\n",
    "    #modelPath = '../tmp_results/predictions/2018-07-19 15-14-38_10/'\n",
    "    #out_evaluation = r\"../tmp_results/Evaluations/Unet_10k/\"\n",
    "    \n",
    "    \"\"\"\n",
    "    Accuracy\t99.260399\t99.504358\t99.490938\n",
    "    Error\t0.739601\t0.495642\t0.509063\n",
    "    IoU\t96.226704\t97.457219\t97.389888\n",
    "    \"\"\"\n",
    "    \n",
    "    modelname = \"weights.hdf5\"\n",
    "    saved_model = models.load_model(modelPath + modelname)"
   ]
  },
  {
   "cell_type": "code",
   "execution_count": null,
   "metadata": {},
   "outputs": [],
   "source": [
    "if 0: # Final U-net from Sester\n",
    "    \n",
    "    # function to load a saved model - old models from sester\n",
    "    def LoadModel(model_json):\n",
    "        from keras.models import model_from_json\n",
    "        json_file = open(model_json)\n",
    "        loaded_model_json = json_file.read()\n",
    "        json_file.close()\n",
    "        loaded_model = model_from_json(loaded_model_json)\n",
    "        return loaded_model\n",
    "    \n",
    "    #scale = 10\n",
    "    #out_evaluation = r\"../tmp_results/Evaluations/Sester_10k/\"\n",
    "    #saved_model = LoadModel(\"../tmp_data/weights_sester/trainGeb10/model_ex1.json\")\n",
    "    #saved_model.load_weights(\"../tmp_data/weights_sester/trainGeb10/weights_model_ex1.h5\")\n",
    "    \n",
    "    \"\"\"\n",
    "    Accuracy\t99.260399\t99.146684\t98.942778\n",
    "    Error\t0.739601\t0.853316\t1.057222\n",
    "    IoU\t96.226704\t95.626991\t94.575020\n",
    "    \"\"\"\n",
    "    \n",
    "    #scale = 15\n",
    "    #out_evaluation = r\"../tmp_results/Evaluations/Sester_15k/\"\n",
    "    #saved_model = LoadModel(\"../tmp_data/weights_sester/trainGeb15/model_ex1.json\")\n",
    "    #saved_model.load_weights(\"../tmp_data/weights_sester/trainGeb15/weights_model_ex1.h5\")\n",
    "    \n",
    "    \"\"\"\n",
    "    Accuracy\t98.644913\t99.095625\t99.033403\n",
    "    Error\t1.355087\t0.904375\t0.966597\n",
    "    IoU\t93.209151\t95.396676\t95.074720\n",
    "\n",
    "    Test 1\n",
    "    Accuracy\t97.641310\t98.707729\t98.623188\n",
    "    Error\t2.358690\t1.292271\t1.376812\n",
    "    IoU\t88.557903\t93.605259\t93.165083\n",
    "    \n",
    "    Test 2\n",
    "    Accuracy\t98.073852\t98.760801\t98.601671\n",
    "    Error\t1.926148\t1.239199\t1.398329\n",
    "    IoU\t93.227646\t95.586500\t95.017766\n",
    "    \"\"\"\n",
    "    \n",
    "    scale = 25\n",
    "    out_evaluation = r\"../tmp_results/Evaluations/Sester_25k/\"\n",
    "    saved_model = LoadModel(\"../tmp_data/weights_sester/trainGeb25/model_ex1.json\")\n",
    "    saved_model.load_weights(\"../tmp_data/weights_sester/trainGeb25/weights_model_ex1.h5\")\n",
    "    \n",
    "    \"\"\"\n",
    "    Accuracy\t97.482847\t98.299792\t98.220625\n",
    "    Error\t2.517153\t1.700208\t1.779375\n",
    "    IoU\t87.757504\t91.499165\t91.082977\n",
    "    \"\"\""
   ]
  },
  {
   "cell_type": "code",
   "execution_count": null,
   "metadata": {},
   "outputs": [],
   "source": [
    "if 0: # SRGAN 128 Input\n",
    "    scale = 25\n",
    "    modelPath = '../tmp_results/predictions/U128GAN_2019-03-12 21-16-58_25/'\n",
    "    out_evaluation = r\"../tmp_results/Evaluations/SRGAN_25k/\"\n",
    "\n",
    "    modelname = \"model_epoch8.h5\"\n",
    "    saved_model = models.load_model(modelPath + modelname)\n",
    "    saved_model = update_gan_generator_to_any_size(saved_model)"
   ]
  },
  {
   "cell_type": "code",
   "execution_count": null,
   "metadata": {},
   "outputs": [],
   "source": [
    "if 0: # DCGAN 128 Input\n",
    "    scale = 15\n",
    "    modelPath = '../tmp_results/predictions/U128GAN_2019-03-12 12-30-22_15/'\n",
    "    out_evaluation = r\"../tmp_results/Evaluations/DCGAN_15k/\"\n",
    "\n",
    "    modelname = \"model_epoch9.h5\"\n",
    "    saved_model = models.load_model(modelPath + modelname)\n",
    "    saved_model = update_gan_generator_to_any_size(saved_model)"
   ]
  },
  {
   "cell_type": "code",
   "execution_count": 2,
   "metadata": {},
   "outputs": [],
   "source": [
    "if 1: # 256 Input \n",
    "    scale = 15\n",
    "    modelPath = '../tmp_results/predictions/2019-03-09 13-18-43_15/'\n",
    "    out_evaluation = r\"../tmp_results/Evaluations/Runet_15k_256/\"\n",
    "    \n",
    "    #scale = 25\n",
    "    #modelPath = '../tmp_results/predictions/U256_2019-03-09 19-21-38_25/'\n",
    "    #out_evaluation = r\"../tmp_results/Evaluations/Runet_25k_256/\"\n",
    "    \n",
    "    modelname = \"weights.h5\"\n",
    "    saved_model = models.load_model(modelPath + modelname)\n",
    "    saved_model = update_gan_generator_to_any_size(saved_model)"
   ]
  },
  {
   "cell_type": "raw",
   "metadata": {
    "scrolled": true
   },
   "source": [
    "if 0:\n",
    "    #scale = 25\n",
    "    #modelPath = '../tmp_results/predictions/GAN_2019-03-04 20-08-40_25/'\n",
    "    #out_evaluation = r\"../tmp_results/Evaluations/GAN_25k_new/\"\n",
    "    #modelname = \"model_epoch14.h5\"\n",
    "    \n",
    "    scale = 15\n",
    "    modelPath = '../tmp_results/predictions/GAN_2019-03-07 20-17-46_15/'\n",
    "    out_evaluation = r\"../tmp_results/Evaluations/GAN_15k_new/\"\n",
    "    modelname = \"model_epoch9.h5\"\n",
    "    \n",
    "    saved_model = models.load_model(modelPath + modelname)\n",
    "    saved_model = update_gan_generator_to_any_size(saved_model)"
   ]
  },
  {
   "cell_type": "raw",
   "metadata": {},
   "source": [
    "if 0:\n",
    "    #scale = 25\n",
    "    #modelPath = '../tmp_results/predictions/2018-07-20 07-53-50_25/'\n",
    "    #out_evaluation = r\"../tmp_results/Evaluations/Unet_25k/\"\n",
    "    \n",
    "    scale = 15\n",
    "    modelPath = '../tmp_results/predictions/2018-07-19 13-13-22_15/'\n",
    "    out_evaluation = r\"../tmp_results/Evaluations/Unet_15k/\"\n",
    "    \n",
    "    #scale = 10\n",
    "    #modelPath = '../tmp_results/predictions/2018-07-19 15-14-38_10/'\n",
    "    #out_evaluation = r\"../tmp_results/Evaluations/Unet_10k/\"\n",
    "\n",
    "    modelname = \"weights.hdf5\"\n",
    "    saved_model = models.load_model(modelPath + modelname)"
   ]
  },
  {
   "cell_type": "raw",
   "metadata": {},
   "source": [
    "if 1: # Res-unet\n",
    "    #scale = 25\n",
    "    ##modelPath = '../tmp_results/predictions/2019-02-20 12-55-43_25/' # L2 Best with 0.011985763888888834 error\n",
    "    ##modelPath = '../tmp_results/predictions/2019-02-21 12-14-20_25/' # L2 2 Error: 0.011566840277777768\n",
    "    #modelPath = '../tmp_results/predictions/2019-02-28 11-05-31_25/' # \"optimizer = Adam(0.0004) L2 Norm\" Best\n",
    "    #out_evaluation = r\"../tmp_results/Evaluations/Runet_25k/\"\n",
    "    \n",
    "    #scale = 15\n",
    "    #modelPath = '../tmp_results/predictions/2019-02-26 12-55-00_15/' # 0.0004 adam mse Best\n",
    "    #out_evaluation = r\"../tmp_results/Evaluations/Runet_15k/\"\n",
    "    \n",
    "    scale = 10\n",
    "    ##modelPath = '../tmp_results/predictions/2019-02-21 16-24-04_10/'\n",
    "    modelPath = '../tmp_results/predictions/U128_2019-03-10 12-26-47_10/'\n",
    "    #out_evaluation = r\"../tmp_results/Evaluations/Runet_10k/\"\n",
    "\n",
    "    modelname = \"weights.h5\"\n",
    "    saved_model = load_model(modelPath + modelname)\n",
    "    saved_model = update_gan_generator_to_any_size(saved_model)"
   ]
  },
  {
   "cell_type": "raw",
   "metadata": {},
   "source": [
    "if 0: # Solution of old gans\n",
    "    scale = 15\n",
    "\n",
    "    #modelPath = '../tmp_results/predictions/2019-01-17 12-16-50_15/'\n",
    "    #out_evaluation = r\"../tmp_results/Evaluations/GAN_15k/\"\n",
    "    #epoch = max(epochs)\n",
    "\n",
    "    #modelPath = '../tmp_results/predictions/2019-01-17 16-22-56_15/' # MSE MAE 1:1000, not better than the case with 1:100\n",
    "    #out_evaluation = r\"../tmp_results/Evaluations/GAN_15k_1000/\"\n",
    "    #epoch = max(epochs)\n",
    "    \n",
    "    epoch = 22\n",
    "    modelPath = '../tmp_results/predictions/2019-01-22 18-19-09_15/' # MSE MAE 1:1000, not better than the case with 1:100\n",
    "    out_evaluation = r\"../tmp_results/Evaluations/GAN_15k_clip/\""
   ]
  },
  {
   "cell_type": "raw",
   "metadata": {},
   "source": [
    "if 0:\n",
    "    #scale = 10\n",
    "    #modelPath = '../tmp_results/predictions/2019-01-17 20-29-09_10/'\n",
    "    #out_evaluation = r\"../tmp_results/Evaluations/GAN_10k/\",\n",
    "    #epoch = max(epochs)\n",
    "    \n",
    "    scale = 25\n",
    "    \n",
    "    #epoch = 3\n",
    "    #modelPath = '../tmp_results/predictions/2019-01-18 11-13-51_25/'\n",
    "    #out_evaluation = r\"../tmp_results/Evaluations/GAN_25k/\"\n",
    "    \n",
    "    #epoch = 5\n",
    "    #modelPath = '../tmp_results/predictions/2019-01-18 14-03-51_25/' # Best 25k\n",
    "    #out_evaluation = r\"../tmp_results/Evaluations/GAN_25k/\"\n",
    "    \n",
    "    #epoch = 11\n",
    "    #modelPath = '../tmp_results/predictions/2019-01-23 13-20-19_25/' # Best 25k\n",
    "    #out_evaluation = r\"../tmp_results/Evaluations/GAN_25k_clip/\"\n",
    "    \n",
    "    #epoch = 12 # Error best 0.01410190972222225\n",
    "    #modelPath = '../tmp_results/predictions/2019-01-23 16-48-27_25/' # Best 25k\n",
    "    #out_evaluation = r\"../tmp_results/Evaluations/GAN_25k_clip/\" \n",
    "    \n",
    "    epoch = 19\n",
    "    modelPath = '../tmp_results/predictions/2019-02-20 08-53-59_25/' # Best 25k\n",
    "    out_evaluation = r\"../tmp_results/Evaluations/GAN_25k_clip/\" \n",
    "\n",
    "    modelnames = [modelname for modelname in os.listdir(modelPath) if '.h5' in modelname]\n",
    "    epochs = [int(modelname.split('epoch')[1].split('.')[0]) for modelname in modelnames]\n",
    "    \n",
    "    modelname = \"model_epoch\" +str(epoch)+ \".h5\"\n",
    "    print(modelPath + modelname, 'loaded')\n",
    "    \n",
    "    saved_model = load_model(modelPath + modelname)\n",
    "    saved_model = update_gan_generator_to_any_size(saved_model)"
   ]
  },
  {
   "cell_type": "markdown",
   "metadata": {},
   "source": [
    "## For all scales"
   ]
  },
  {
   "cell_type": "code",
   "execution_count": 6,
   "metadata": {},
   "outputs": [],
   "source": [
    "tester_path = r\"../tmp_data/Data/Testing_large/4270/\"\n",
    "all_records = []"
   ]
  },
  {
   "cell_type": "code",
   "execution_count": 7,
   "metadata": {
    "scrolled": true
   },
   "outputs": [
    {
     "name": "stdout",
     "output_type": "stream",
     "text": [
      "- 15k Example:  (2400, 2400)\n",
      "Acc & IoU: 0.9864491319444444 0.9320915098074187\n",
      "Error: 0.01355086805555561\n",
      "[[4610615   34972]\n",
      " [  43081 1071332]]\n",
      "+ 15k Prediction:  (2400, 2400)\n",
      "Acc & IoU: 0.9952295138888889 0.9756289656811703\n",
      "Error: 0.004770486111111083\n",
      "[[4632514   13073]\n",
      " [  14405 1100008]]\n"
     ]
    },
    {
     "data": {
      "image/png": "[encoded data removed]",
      "text/plain": [
       "<matplotlib.figure.Figure at 0x7f7739c02470>"
      ]
     },
     "metadata": {},
     "output_type": "display_data"
    }
   ],
   "source": [
    "records = predict_eval(saved_model, [0,2400,500,2900], tester_path, r\"geb_clip_4270.png\", r\"geb\"+str(scale)+\"_clip_4270.png\", out_evaluation, scale, nr = 1)\n",
    "all_records.extend(records)"
   ]
  },
  {
   "cell_type": "code",
   "execution_count": 8,
   "metadata": {},
   "outputs": [
    {
     "name": "stdout",
     "output_type": "stream",
     "text": [
      "- 15k Example:  (2400, 2400)\n",
      "Acc & IoU: 0.9864491319444444 0.9320915098074187\n",
      "Error: 0.01355086805555561\n",
      "[[4610615   34972]\n",
      " [  43081 1071332]]\n",
      "+ 15k Prediction:  (2400, 2400)\n",
      "Acc & IoU: 0.9950001736111111 0.9744774565193309\n",
      "Error: 0.0049998263888888506\n",
      "[[4631625   13962]\n",
      " [  14837 1099576]]\n"
     ]
    },
    {
     "data": {
      "image/png": "[encoded data removed]",
      "text/plain": [
       "<matplotlib.figure.Figure at 0x7f7739c024e0>"
      ]
     },
     "metadata": {},
     "output_type": "display_data"
    }
   ],
   "source": [
    "records = predict_eval(saved_model, [0,2400,500,2900], tester_path, r\"geb_clip_4270.png\", r\"geb\"+str(scale)+\"_clip_4270.png\", out_evaluation, scale, nr = 2)\n",
    "all_records.extend(records)"
   ]
  },
  {
   "cell_type": "code",
   "execution_count": 9,
   "metadata": {},
   "outputs": [
    {
     "data": {
      "text/html": [
       "<div>\n",
       "<style scoped>\n",
       "    .dataframe tbody tr th:only-of-type {\n",
       "        vertical-align: middle;\n",
       "    }\n",
       "\n",
       "    .dataframe tbody tr th {\n",
       "        vertical-align: top;\n",
       "    }\n",
       "\n",
       "    .dataframe thead th {\n",
       "        text-align: right;\n",
       "    }\n",
       "</style>\n",
       "<table border=\"1\" class=\"dataframe\">\n",
       "  <thead>\n",
       "    <tr style=\"text-align: right;\">\n",
       "      <th></th>\n",
       "      <th>Input vs Target (4270)</th>\n",
       "      <th>Prediction vs Target (4270 - 1)</th>\n",
       "      <th>Prediction vs Target (4270 - 2)</th>\n",
       "    </tr>\n",
       "    <tr>\n",
       "      <th>Metrics</th>\n",
       "      <th></th>\n",
       "      <th></th>\n",
       "      <th></th>\n",
       "    </tr>\n",
       "  </thead>\n",
       "  <tbody>\n",
       "    <tr>\n",
       "      <th>Accuracy</th>\n",
       "      <td>98.644913</td>\n",
       "      <td>99.522951</td>\n",
       "      <td>99.500017</td>\n",
       "    </tr>\n",
       "    <tr>\n",
       "      <th>Error</th>\n",
       "      <td>1.355087</td>\n",
       "      <td>0.477049</td>\n",
       "      <td>0.499983</td>\n",
       "    </tr>\n",
       "    <tr>\n",
       "      <th>IoU</th>\n",
       "      <td>93.209151</td>\n",
       "      <td>97.562897</td>\n",
       "      <td>97.447746</td>\n",
       "    </tr>\n",
       "  </tbody>\n",
       "</table>\n",
       "</div>"
      ],
      "text/plain": [
       "          Input vs Target (4270)  Prediction vs Target (4270 - 1)  \\\n",
       "Metrics                                                             \n",
       "Accuracy               98.644913                        99.522951   \n",
       "Error                   1.355087                         0.477049   \n",
       "IoU                    93.209151                        97.562897   \n",
       "\n",
       "          Prediction vs Target (4270 - 2)  \n",
       "Metrics                                    \n",
       "Accuracy                        99.500017  \n",
       "Error                            0.499983  \n",
       "IoU                             97.447746  "
      ]
     },
     "execution_count": 9,
     "metadata": {},
     "output_type": "execute_result"
    }
   ],
   "source": [
    "_records = [(acc * 100, (1-acc) * 100, iou * 100) for acc, iou, conf, report in all_records]\n",
    "\n",
    "import pandas as pd\n",
    "df = pd.DataFrame(np.transpose(_records))\n",
    "df.columns = [\"Input vs Target (4270)\", \"Prediction vs Target (4270 - 1)\", \n",
    "              \"Input vs Target (4270_)\", \"Prediction vs Target (4270 - 2)\"]\n",
    "df = df.rename({0: \"Accuracy\", 1: 'Error', 2: 'IoU'})\n",
    "df.index.name = 'Metrics'\n",
    "df[[\"Input vs Target (4270)\", \"Prediction vs Target (4270 - 1)\", \"Prediction vs Target (4270 - 2)\"]]"
   ]
  },
  {
   "cell_type": "code",
   "execution_count": null,
   "metadata": {},
   "outputs": [],
   "source": [
    "tester_path = r\"../tmp_data/Data/Testing/\"\n",
    "\n",
    "predict_only(saved_model, [], tester_path, r\"h1.tif\", out_evaluation, scale, nr = 1)\n",
    "predict_only(saved_model, [], tester_path, r\"h2.tif\", out_evaluation, scale, nr = 1)\n",
    "predict_only(saved_model, [], tester_path, r\"h3.tif\", out_evaluation, scale, nr = 1)\n",
    "predict_only(saved_model, [], tester_path, r\"h4.tif\", out_evaluation, scale, nr = 1)"
   ]
  },
  {
   "cell_type": "code",
   "execution_count": null,
   "metadata": {},
   "outputs": [],
   "source": [
    "\n"
   ]
  },
  {
   "cell_type": "code",
   "execution_count": null,
   "metadata": {},
   "outputs": [],
   "source": [
    "tester_path = r\"../tmp_data/Data/\"\n",
    "\n",
    "predict_only(saved_model, [], tester_path, r\"geb_clip_res.png\", out_evaluation, scale, nr = 1)\n",
    "predict_only(saved_model, [], tester_path, r\"geb_clip_res.png\", out_evaluation, scale, nr = 2)\n",
    "predict_only(saved_model, [], tester_path, r\"geb_clip_res.png\", out_evaluation, scale, nr = 3)\n",
    "predict_only(saved_model, [], tester_path, r\"geb_clip_res.png\", out_evaluation, scale, nr = 10)"
   ]
  },
  {
   "cell_type": "code",
   "execution_count": null,
   "metadata": {},
   "outputs": [],
   "source": [
    "tester_path = r\"../tmp_data/Data/\"\n",
    "predict_only(saved_model, [], tester_path, r\"geb_test2_crop.png\", out_evaluation, scale, nr = 1)\n",
    "predict_only(saved_model, [], tester_path, r\"geb_test2_crop.png\", out_evaluation, scale, nr = 2)\n",
    "#predict_only(saved_model, [], tester_path, r\"Test.png\", out_evaluation, scale, nr = 2)"
   ]
  },
  {
   "cell_type": "code",
   "execution_count": null,
   "metadata": {},
   "outputs": [],
   "source": [
    "if 0: # Predict with residual u-net on chun dataset\n",
    "    \n",
    "    tester_path = r\"../tmp_data/Data/chun/\"\n",
    "\n",
    "    predict_only(saved_model, [], tester_path, r\"BW_resarea9.tif\", out_evaluation, scale, nr = 2)\n",
    "    predict_only(saved_model, [], tester_path, r\"BW_apartbuild1.tif\", out_evaluation, scale, nr = 2)\n",
    "    predict_only(saved_model, [], tester_path, r\"BW_industry4.tif\", out_evaluation, scale, nr = 2)\n",
    "    predict_only(saved_model, [], tester_path, r\"BW_resarea3.tif\", out_evaluation, scale, nr = 2)\n",
    "    predict_only(saved_model, [], tester_path, r\"BW_resarea7.tif\", out_evaluation, scale, nr = 2)"
   ]
  },
  {
   "cell_type": "code",
   "execution_count": null,
   "metadata": {},
   "outputs": [],
   "source": [
    "if 0: # Predict with residual u-net on vahingen dataset\n",
    "    tester_path = r\"../tmp_data/isprs_vahingen_building/\"\n",
    "    out_evaluation = r\"../tmp_results/Evaluations/Runet_10k_chun/\"\n",
    "    for fn in os.listdir(tester_path):\n",
    "        predict_only(saved_model, [], tester_path, fn, out_evaluation, scale, nr = 2)"
   ]
  },
  {
   "cell_type": "markdown",
   "metadata": {},
   "source": [
    "## Only for 15k"
   ]
  },
  {
   "cell_type": "code",
   "execution_count": 3,
   "metadata": {},
   "outputs": [
    {
     "name": "stdout",
     "output_type": "stream",
     "text": [
      "- 15k Example:  (483, 558)\n",
      "Acc & IoU: 0.9764130991339968 0.885579034522481\n",
      "Error: 0.023586900866003235\n",
      "[[213956   2730]\n",
      " [  3627  49201]]\n",
      "+ 15k Prediction:  (480, 552)\n",
      "Acc & IoU: 0.9917798913043478 0.9594126197309083\n",
      "Error: 0.00822010869565215\n",
      "[[211298   1055]\n",
      " [  1123  51484]]\n",
      "- 15k Example:  (500, 566)\n",
      "Acc & IoU: 0.9807385159010601 0.9322764601374101\n",
      "Error: 0.019261484098939907\n",
      "[[202511   1848]\n",
      " [  3603  75038]]\n",
      "+ 15k Prediction:  (496, 560)\n",
      "Acc & IoU: 0.9941964285714285 0.9792481977342945\n",
      "Error: 0.0058035714285714635\n",
      "[[200080    620]\n",
      " [   992  76068]]\n",
      "- 15k Example:  (483, 558)\n",
      "Acc & IoU: 0.9764130991339968 0.885579034522481\n",
      "Error: 0.023586900866003235\n",
      "[[213956   2730]\n",
      " [  3627  49201]]\n",
      "+ 15k Prediction:  (480, 552)\n",
      "Acc & IoU: 0.990828804347826 0.9548427859956887\n",
      "Error: 0.009171195652173947\n",
      "[[211148   1205]\n",
      " [  1225  51382]]\n",
      "- 15k Example:  (500, 566)\n",
      "Acc & IoU: 0.9807385159010601 0.9322764601374101\n",
      "Error: 0.019261484098939907\n",
      "[[202511   1848]\n",
      " [  3603  75038]]\n",
      "+ 15k Prediction:  (496, 560)\n",
      "Acc & IoU: 0.9939732142857143 0.9784700072023871\n",
      "Error: 0.006026785714285721\n",
      "[[200008    692]\n",
      " [   982  76078]]\n"
     ]
    },
    {
     "data": {
      "image/png": "[encoded data removed]",
      "text/plain": [
       "<matplotlib.figure.Figure at 0x7f7739d40710>"
      ]
     },
     "metadata": {},
     "output_type": "display_data"
    },
    {
     "data": {
      "image/png": "[encoded data removed]",
      "text/plain": [
       "<matplotlib.figure.Figure at 0x7f773a174eb8>"
      ]
     },
     "metadata": {},
     "output_type": "display_data"
    },
    {
     "data": {
      "image/png": "[encoded data removed]",
      "text/plain": [
       "<matplotlib.figure.Figure at 0x7f773a235b00>"
      ]
     },
     "metadata": {},
     "output_type": "display_data"
    },
    {
     "data": {
      "image/png": "[encoded data removed]",
      "text/plain": [
       "<matplotlib.figure.Figure at 0x7f773a22d780>"
      ]
     },
     "metadata": {},
     "output_type": "display_data"
    }
   ],
   "source": [
    "if scale == 15:\n",
    "    tester_path = r\"../tmp_data/Data/Testing/\"\n",
    "\n",
    "    all_records = []\n",
    "\n",
    "    records = predict_eval(saved_model, [], tester_path, r\"FTest1_input_inv.png\", r\"FTest1_output_inv.png\", out_evaluation, scale, nr = 1)\n",
    "    all_records.extend(records)\n",
    "    records = predict_eval(saved_model, [], tester_path, r\"FTest3_input_inv.png\", r\"FTest3_output_inv.png\", out_evaluation, scale, nr = 1)\n",
    "    all_records.extend(records)\n",
    "    records = predict_eval(saved_model, [], tester_path, r\"FTest1_input_inv.png\", r\"FTest1_output_inv.png\", out_evaluation, scale, nr = 2)\n",
    "    all_records.extend(records)\n",
    "    records = predict_eval(saved_model, [], tester_path, r\"FTest3_input_inv.png\", r\"FTest3_output_inv.png\", out_evaluation, scale, nr = 2)\n",
    "    all_records.extend(records)\n",
    "\n",
    "    _records = [(acc * 100, (1-acc) * 100, iou * 100) for acc, iou, conf, report in all_records]\n",
    "\n",
    "    import pandas as pd\n",
    "    df = pd.DataFrame(np.transpose(_records))\n",
    "    df.columns = [\"Input vs Target (Test1)\", \"Prediction vs Target (Test1 - 1)\", \n",
    "                  \"Input vs Target (Test3)\", \"Prediction vs Target (Test3 - 1)\",\n",
    "                  \"Input vs Target (Test1)_\", \"Prediction vs Target (Test1 - 2)\", \n",
    "                  \"Input vs Target (Test3)_\", \"Prediction vs Target (Test3 - 2)\"]\n",
    "\n",
    "    df = df.rename({0: \"Accuracy\", 1: 'Error', 2: 'IoU'})\n",
    "    df.index.name = 'Metrics'"
   ]
  },
  {
   "cell_type": "code",
   "execution_count": 4,
   "metadata": {},
   "outputs": [
    {
     "data": {
      "text/html": [
       "<div>\n",
       "<style scoped>\n",
       "    .dataframe tbody tr th:only-of-type {\n",
       "        vertical-align: middle;\n",
       "    }\n",
       "\n",
       "    .dataframe tbody tr th {\n",
       "        vertical-align: top;\n",
       "    }\n",
       "\n",
       "    .dataframe thead th {\n",
       "        text-align: right;\n",
       "    }\n",
       "</style>\n",
       "<table border=\"1\" class=\"dataframe\">\n",
       "  <thead>\n",
       "    <tr style=\"text-align: right;\">\n",
       "      <th></th>\n",
       "      <th>Input vs Target (Test1)</th>\n",
       "      <th>Prediction vs Target (Test1 - 1)</th>\n",
       "      <th>Prediction vs Target (Test1 - 2)</th>\n",
       "    </tr>\n",
       "    <tr>\n",
       "      <th>Metrics</th>\n",
       "      <th></th>\n",
       "      <th></th>\n",
       "      <th></th>\n",
       "    </tr>\n",
       "  </thead>\n",
       "  <tbody>\n",
       "    <tr>\n",
       "      <th>Accuracy</th>\n",
       "      <td>97.641310</td>\n",
       "      <td>99.177989</td>\n",
       "      <td>99.082880</td>\n",
       "    </tr>\n",
       "    <tr>\n",
       "      <th>Error</th>\n",
       "      <td>2.358690</td>\n",
       "      <td>0.822011</td>\n",
       "      <td>0.917120</td>\n",
       "    </tr>\n",
       "    <tr>\n",
       "      <th>IoU</th>\n",
       "      <td>88.557903</td>\n",
       "      <td>95.941262</td>\n",
       "      <td>95.484279</td>\n",
       "    </tr>\n",
       "  </tbody>\n",
       "</table>\n",
       "</div>"
      ],
      "text/plain": [
       "          Input vs Target (Test1)  Prediction vs Target (Test1 - 1)  \\\n",
       "Metrics                                                               \n",
       "Accuracy                97.641310                         99.177989   \n",
       "Error                    2.358690                          0.822011   \n",
       "IoU                     88.557903                         95.941262   \n",
       "\n",
       "          Prediction vs Target (Test1 - 2)  \n",
       "Metrics                                     \n",
       "Accuracy                         99.082880  \n",
       "Error                             0.917120  \n",
       "IoU                              95.484279  "
      ]
     },
     "execution_count": 4,
     "metadata": {},
     "output_type": "execute_result"
    }
   ],
   "source": [
    "    df[[\"Input vs Target (Test1)\", \"Prediction vs Target (Test1 - 1)\", \"Prediction vs Target (Test1 - 2)\"]]"
   ]
  },
  {
   "cell_type": "code",
   "execution_count": 5,
   "metadata": {},
   "outputs": [
    {
     "data": {
      "text/html": [
       "<div>\n",
       "<style scoped>\n",
       "    .dataframe tbody tr th:only-of-type {\n",
       "        vertical-align: middle;\n",
       "    }\n",
       "\n",
       "    .dataframe tbody tr th {\n",
       "        vertical-align: top;\n",
       "    }\n",
       "\n",
       "    .dataframe thead th {\n",
       "        text-align: right;\n",
       "    }\n",
       "</style>\n",
       "<table border=\"1\" class=\"dataframe\">\n",
       "  <thead>\n",
       "    <tr style=\"text-align: right;\">\n",
       "      <th></th>\n",
       "      <th>Input vs Target (Test3)</th>\n",
       "      <th>Prediction vs Target (Test3 - 1)</th>\n",
       "      <th>Prediction vs Target (Test3 - 2)</th>\n",
       "    </tr>\n",
       "    <tr>\n",
       "      <th>Metrics</th>\n",
       "      <th></th>\n",
       "      <th></th>\n",
       "      <th></th>\n",
       "    </tr>\n",
       "  </thead>\n",
       "  <tbody>\n",
       "    <tr>\n",
       "      <th>Accuracy</th>\n",
       "      <td>98.073852</td>\n",
       "      <td>99.419643</td>\n",
       "      <td>99.397321</td>\n",
       "    </tr>\n",
       "    <tr>\n",
       "      <th>Error</th>\n",
       "      <td>1.926148</td>\n",
       "      <td>0.580357</td>\n",
       "      <td>0.602679</td>\n",
       "    </tr>\n",
       "    <tr>\n",
       "      <th>IoU</th>\n",
       "      <td>93.227646</td>\n",
       "      <td>97.924820</td>\n",
       "      <td>97.847001</td>\n",
       "    </tr>\n",
       "  </tbody>\n",
       "</table>\n",
       "</div>"
      ],
      "text/plain": [
       "          Input vs Target (Test3)  Prediction vs Target (Test3 - 1)  \\\n",
       "Metrics                                                               \n",
       "Accuracy                98.073852                         99.419643   \n",
       "Error                    1.926148                          0.580357   \n",
       "IoU                     93.227646                         97.924820   \n",
       "\n",
       "          Prediction vs Target (Test3 - 2)  \n",
       "Metrics                                     \n",
       "Accuracy                         99.397321  \n",
       "Error                             0.602679  \n",
       "IoU                              97.847001  "
      ]
     },
     "execution_count": 5,
     "metadata": {},
     "output_type": "execute_result"
    }
   ],
   "source": [
    "    df[[\"Input vs Target (Test3)\", \"Prediction vs Target (Test3 - 1)\", \"Prediction vs Target (Test3 - 2)\"]]"
   ]
  },
  {
   "cell_type": "code",
   "execution_count": null,
   "metadata": {},
   "outputs": [],
   "source": []
  }
 ],
 "metadata": {
  "kernelspec": {
   "display_name": "Python 3",
   "language": "python",
   "name": "python3"
  },
  "language_info": {
   "codemirror_mode": {
    "name": "ipython",
    "version": 3
   },
   "file_extension": ".py",
   "mimetype": "text/x-python",
   "name": "python",
   "nbconvert_exporter": "python",
   "pygments_lexer": "ipython3",
   "version": "3.5.2"
  }
 },
 "nbformat": 4,
 "nbformat_minor": 2
}
