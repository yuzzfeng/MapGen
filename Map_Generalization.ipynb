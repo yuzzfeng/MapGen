{
 "cells": [
  {
   "cell_type": "code",
   "execution_count": 1,
   "metadata": {},
   "outputs": [
    {
     "name": "stderr",
     "output_type": "stream",
     "text": [
      "/usr/local/lib/python3.5/dist-packages/h5py/__init__.py:36: FutureWarning: Conversion of the second argument of issubdtype from `float` to `np.floating` is deprecated. In future, it will be treated as `np.float64 == np.dtype(float).type`.\n",
      "  from ._conv import register_converters as _register_converters\n",
      "Using TensorFlow backend.\n"
     ]
    }
   ],
   "source": [
    "# -*- coding: utf-8 -*-\n",
    "\n",
    "## Map Generalization for Polygons using Autoencode-like strucutures\n",
    "## \n",
    "## Author: Yu Feng, yuzz.feng@gmail.com\n",
    "## 1. Version Author: SERCAN CAKIR - Adatped based on Master Thesis of SERCAN CAKIR \"ROAD NETWORK EXTRACTION USING CNN\"\n",
    "\n",
    "## Changes:\n",
    "## 1. Two conv layers were added before the first down convlusional layer\n",
    "## 2. Output can be any size during the evaluation\n",
    "## 3. Adapt the code to support more images as training examples\n",
    "## 4. Dropouot may make the sharpe corners vanishing, we delete half of them, but we should used some\n",
    "## 5. Splilt step for generate training and validation data\n",
    "## 6. Prepare to update in github\n",
    "\n",
    "import matplotlib\n",
    "#matplotlib.use('Agg') # necessary for linux kernal\n",
    "%matplotlib inline\n",
    "import matplotlib.pyplot as plt\n",
    "\n",
    "import os\n",
    "import numpy as np\n",
    "from numpy import random\n",
    "np.random.seed(7)\n",
    "import itertools\n",
    "\n",
    "import keras\n",
    "from keras import backend as K\n",
    "\n",
    "from keras.models import Model, Sequential\n",
    "#from keras.layers.core import Dropout\n",
    "from keras.layers import Input, Conv2D, Dropout, UpSampling2D, Activation, Concatenate, Add\n",
    "from keras.layers import MaxPooling2D, Conv2DTranspose, BatchNormalization, Activation\n",
    "\n",
    "from keras.preprocessing.image import ImageDataGenerator\n",
    "from keras.callbacks import EarlyStopping, ReduceLROnPlateau, ModelCheckpoint, History\n",
    "\n",
    "from osgeo import gdal\n",
    "from sklearn.model_selection import train_test_split\n",
    "from skimage.util.shape import view_as_windows\n",
    "\n",
    "from data_helper import readImg, readImgInv, imagePatches, removeBlackImg, removeCorrespondence, check_and_create\n",
    "\n",
    "from time import gmtime, strftime\n",
    "timestr = strftime(\"%Y-%m-%d %H-%M-%S\", gmtime())\n",
    "\n",
    "scale = 15 #25\n",
    "\n",
    "############ Path Setting ##############\n",
    "outPath = r\"../tmp_results/predictions/\"\n",
    "outPath = outPath + timestr + '_' + str(scale)+ \"/\"\n",
    "check_and_create(outPath)"
   ]
  },
  {
   "cell_type": "markdown",
   "metadata": {},
   "source": [
    "## Prepare Training Data"
   ]
  },
  {
   "cell_type": "code",
   "execution_count": 2,
   "metadata": {},
   "outputs": [],
   "source": [
    "# Order the image dimension acc. to TensorFlow (batc_hsize, rows, cols, channels)\n",
    "K.set_image_dim_ordering('tf')\n",
    "\n",
    "p_size_1 = 128 # Compared with 256, which larger may generate round corners\n",
    "trainPath = r\"../tmp_data/data_feng/geb\" + str(scale) +  \"/\"\n",
    "\n",
    "# save image patch arrays\n",
    "x_train_sim = np.load(trainPath + \"x_train_sim.npy\")\n",
    "y_train_sim = np.load(trainPath + \"y_train_sim.npy\")\n",
    "x_test_sim = np.load(trainPath + \"x_test_sim.npy\")\n",
    "y_test_sim = np.load(trainPath + \"y_test_sim.npy\")"
   ]
  },
  {
   "cell_type": "code",
   "execution_count": 3,
   "metadata": {},
   "outputs": [
    {
     "name": "stdout",
     "output_type": "stream",
     "text": [
      "Input Shape of the models (32289, 128, 128, 1)\n"
     ]
    },
    {
     "data": {
      "image/png": "[encoded data removed]",
      "text/plain": [
       "<matplotlib.figure.Figure at 0x7f62c6c5d5c0>"
      ]
     },
     "metadata": {},
     "output_type": "display_data"
    },
    {
     "data": {
      "image/png": "[encoded data removed]",
      "text/plain": [
       "<matplotlib.figure.Figure at 0x7f62c6c5dcf8>"
      ]
     },
     "metadata": {},
     "output_type": "display_data"
    }
   ],
   "source": [
    "plt.figure()\n",
    "plt.imshow(np.reshape(x_test_sim[2], (p_size_1,p_size_1)))\n",
    "plt.figure()\n",
    "plt.imshow(np.reshape(y_test_sim[2], (p_size_1,p_size_1)))\n",
    "\n",
    "input_shape1 = (None, None, 1) #x_train_sim[0].shape\n",
    "print('Input Shape of the models', x_train_sim.shape)"
   ]
  },
  {
   "cell_type": "code",
   "execution_count": 4,
   "metadata": {},
   "outputs": [
    {
     "name": "stdout",
     "output_type": "stream",
     "text": [
      "__________________________________________________________________________________________________\n",
      "Layer (type)                    Output Shape         Param #     Connected to                     \n",
      "==================================================================================================\n",
      "input_1 (InputLayer)            (None, None, None, 1 0                                            \n",
      "__________________________________________________________________________________________________\n",
      "conv2d_1 (Conv2D)               (None, None, None, 3 320         input_1[0][0]                    \n",
      "__________________________________________________________________________________________________\n",
      "batch_normalization_1 (BatchNor (None, None, None, 3 128         conv2d_1[0][0]                   \n",
      "__________________________________________________________________________________________________\n",
      "conv2d_3 (Conv2D)               (None, None, None, 3 64          input_1[0][0]                    \n",
      "__________________________________________________________________________________________________\n",
      "activation_1 (Activation)       (None, None, None, 3 0           batch_normalization_1[0][0]      \n",
      "__________________________________________________________________________________________________\n",
      "batch_normalization_2 (BatchNor (None, None, None, 3 128         conv2d_3[0][0]                   \n",
      "__________________________________________________________________________________________________\n",
      "conv2d_2 (Conv2D)               (None, None, None, 3 9248        activation_1[0][0]               \n",
      "__________________________________________________________________________________________________\n",
      "add_1 (Add)                     (None, None, None, 3 0           batch_normalization_2[0][0]      \n",
      "                                                                 conv2d_2[0][0]                   \n",
      "__________________________________________________________________________________________________\n",
      "batch_normalization_3 (BatchNor (None, None, None, 3 128         add_1[0][0]                      \n",
      "__________________________________________________________________________________________________\n",
      "activation_2 (Activation)       (None, None, None, 3 0           batch_normalization_3[0][0]      \n",
      "__________________________________________________________________________________________________\n",
      "conv2d_4 (Conv2D)               (None, None, None, 6 18496       activation_2[0][0]               \n",
      "__________________________________________________________________________________________________\n",
      "batch_normalization_4 (BatchNor (None, None, None, 6 256         conv2d_4[0][0]                   \n",
      "__________________________________________________________________________________________________\n",
      "conv2d_6 (Conv2D)               (None, None, None, 6 2112        add_1[0][0]                      \n",
      "__________________________________________________________________________________________________\n",
      "activation_3 (Activation)       (None, None, None, 6 0           batch_normalization_4[0][0]      \n",
      "__________________________________________________________________________________________________\n",
      "batch_normalization_5 (BatchNor (None, None, None, 6 256         conv2d_6[0][0]                   \n",
      "__________________________________________________________________________________________________\n",
      "conv2d_5 (Conv2D)               (None, None, None, 6 36928       activation_3[0][0]               \n",
      "__________________________________________________________________________________________________\n",
      "add_2 (Add)                     (None, None, None, 6 0           batch_normalization_5[0][0]      \n",
      "                                                                 conv2d_5[0][0]                   \n",
      "__________________________________________________________________________________________________\n",
      "batch_normalization_6 (BatchNor (None, None, None, 6 256         add_2[0][0]                      \n",
      "__________________________________________________________________________________________________\n",
      "activation_4 (Activation)       (None, None, None, 6 0           batch_normalization_6[0][0]      \n",
      "__________________________________________________________________________________________________\n",
      "conv2d_7 (Conv2D)               (None, None, None, 1 73856       activation_4[0][0]               \n",
      "__________________________________________________________________________________________________\n",
      "batch_normalization_7 (BatchNor (None, None, None, 1 512         conv2d_7[0][0]                   \n",
      "__________________________________________________________________________________________________\n",
      "conv2d_9 (Conv2D)               (None, None, None, 1 8320        add_2[0][0]                      \n",
      "__________________________________________________________________________________________________\n",
      "activation_5 (Activation)       (None, None, None, 1 0           batch_normalization_7[0][0]      \n",
      "__________________________________________________________________________________________________\n",
      "batch_normalization_8 (BatchNor (None, None, None, 1 512         conv2d_9[0][0]                   \n",
      "__________________________________________________________________________________________________\n",
      "conv2d_8 (Conv2D)               (None, None, None, 1 147584      activation_5[0][0]               \n",
      "__________________________________________________________________________________________________\n",
      "add_3 (Add)                     (None, None, None, 1 0           batch_normalization_8[0][0]      \n",
      "                                                                 conv2d_8[0][0]                   \n",
      "__________________________________________________________________________________________________\n",
      "batch_normalization_9 (BatchNor (None, None, None, 1 512         add_3[0][0]                      \n",
      "__________________________________________________________________________________________________\n",
      "activation_6 (Activation)       (None, None, None, 1 0           batch_normalization_9[0][0]      \n",
      "__________________________________________________________________________________________________\n",
      "conv2d_10 (Conv2D)              (None, None, None, 2 295168      activation_6[0][0]               \n",
      "__________________________________________________________________________________________________\n",
      "batch_normalization_10 (BatchNo (None, None, None, 2 1024        conv2d_10[0][0]                  \n",
      "__________________________________________________________________________________________________\n",
      "conv2d_12 (Conv2D)              (None, None, None, 2 33024       add_3[0][0]                      \n",
      "__________________________________________________________________________________________________\n",
      "activation_7 (Activation)       (None, None, None, 2 0           batch_normalization_10[0][0]     \n",
      "__________________________________________________________________________________________________\n",
      "batch_normalization_11 (BatchNo (None, None, None, 2 1024        conv2d_12[0][0]                  \n",
      "__________________________________________________________________________________________________\n",
      "conv2d_11 (Conv2D)              (None, None, None, 2 590080      activation_7[0][0]               \n",
      "__________________________________________________________________________________________________\n",
      "add_4 (Add)                     (None, None, None, 2 0           batch_normalization_11[0][0]     \n",
      "                                                                 conv2d_11[0][0]                  \n",
      "__________________________________________________________________________________________________\n",
      "batch_normalization_12 (BatchNo (None, None, None, 2 1024        add_4[0][0]                      \n",
      "__________________________________________________________________________________________________\n",
      "activation_8 (Activation)       (None, None, None, 2 0           batch_normalization_12[0][0]     \n",
      "__________________________________________________________________________________________________\n",
      "conv2d_13 (Conv2D)              (None, None, None, 5 1180160     activation_8[0][0]               \n",
      "__________________________________________________________________________________________________\n",
      "batch_normalization_13 (BatchNo (None, None, None, 5 2048        conv2d_13[0][0]                  \n",
      "__________________________________________________________________________________________________\n",
      "conv2d_15 (Conv2D)              (None, None, None, 5 131584      add_4[0][0]                      \n",
      "__________________________________________________________________________________________________\n",
      "activation_9 (Activation)       (None, None, None, 5 0           batch_normalization_13[0][0]     \n",
      "__________________________________________________________________________________________________\n",
      "batch_normalization_14 (BatchNo (None, None, None, 5 2048        conv2d_15[0][0]                  \n",
      "__________________________________________________________________________________________________\n",
      "conv2d_14 (Conv2D)              (None, None, None, 5 2359808     activation_9[0][0]               \n",
      "__________________________________________________________________________________________________\n",
      "add_5 (Add)                     (None, None, None, 5 0           batch_normalization_14[0][0]     \n",
      "                                                                 conv2d_14[0][0]                  \n",
      "__________________________________________________________________________________________________\n",
      "up_sampling2d_1 (UpSampling2D)  (None, None, None, 5 0           add_5[0][0]                      \n",
      "__________________________________________________________________________________________________\n",
      "batch_normalization_15 (BatchNo (None, None, None, 5 2048        up_sampling2d_1[0][0]            \n",
      "__________________________________________________________________________________________________\n",
      "activation_10 (Activation)      (None, None, None, 5 0           batch_normalization_15[0][0]     \n",
      "__________________________________________________________________________________________________\n",
      "conv2d_16 (Conv2D)              (None, None, None, 1 589952      activation_10[0][0]              \n",
      "__________________________________________________________________________________________________\n",
      "batch_normalization_16 (BatchNo (None, None, None, 1 512         conv2d_16[0][0]                  \n",
      "__________________________________________________________________________________________________\n",
      "conv2d_18 (Conv2D)              (None, None, None, 1 65664       up_sampling2d_1[0][0]            \n",
      "__________________________________________________________________________________________________\n",
      "activation_11 (Activation)      (None, None, None, 1 0           batch_normalization_16[0][0]     \n",
      "__________________________________________________________________________________________________\n",
      "batch_normalization_17 (BatchNo (None, None, None, 1 512         conv2d_18[0][0]                  \n",
      "__________________________________________________________________________________________________\n",
      "conv2d_17 (Conv2D)              (None, None, None, 1 147584      activation_11[0][0]              \n",
      "__________________________________________________________________________________________________\n",
      "add_6 (Add)                     (None, None, None, 1 0           batch_normalization_17[0][0]     \n",
      "                                                                 conv2d_17[0][0]                  \n",
      "__________________________________________________________________________________________________\n",
      "up_sampling2d_2 (UpSampling2D)  (None, None, None, 1 0           add_6[0][0]                      \n",
      "__________________________________________________________________________________________________\n",
      "batch_normalization_18 (BatchNo (None, None, None, 1 512         up_sampling2d_2[0][0]            \n",
      "__________________________________________________________________________________________________\n",
      "activation_12 (Activation)      (None, None, None, 1 0           batch_normalization_18[0][0]     \n",
      "__________________________________________________________________________________________________\n",
      "conv2d_19 (Conv2D)              (None, None, None, 6 73792       activation_12[0][0]              \n",
      "__________________________________________________________________________________________________\n",
      "batch_normalization_19 (BatchNo (None, None, None, 6 256         conv2d_19[0][0]                  \n",
      "__________________________________________________________________________________________________\n",
      "conv2d_21 (Conv2D)              (None, None, None, 6 8256        up_sampling2d_2[0][0]            \n",
      "__________________________________________________________________________________________________\n",
      "activation_13 (Activation)      (None, None, None, 6 0           batch_normalization_19[0][0]     \n",
      "__________________________________________________________________________________________________\n",
      "batch_normalization_20 (BatchNo (None, None, None, 6 256         conv2d_21[0][0]                  \n",
      "__________________________________________________________________________________________________\n",
      "conv2d_20 (Conv2D)              (None, None, None, 6 36928       activation_13[0][0]              \n",
      "__________________________________________________________________________________________________\n",
      "add_7 (Add)                     (None, None, None, 6 0           batch_normalization_20[0][0]     \n",
      "                                                                 conv2d_20[0][0]                  \n",
      "__________________________________________________________________________________________________\n",
      "up_sampling2d_3 (UpSampling2D)  (None, None, None, 6 0           add_7[0][0]                      \n",
      "__________________________________________________________________________________________________\n",
      "batch_normalization_21 (BatchNo (None, None, None, 6 256         up_sampling2d_3[0][0]            \n",
      "__________________________________________________________________________________________________\n",
      "activation_14 (Activation)      (None, None, None, 6 0           batch_normalization_21[0][0]     \n",
      "__________________________________________________________________________________________________\n",
      "conv2d_22 (Conv2D)              (None, None, None, 3 18464       activation_14[0][0]              \n",
      "__________________________________________________________________________________________________\n",
      "batch_normalization_22 (BatchNo (None, None, None, 3 128         conv2d_22[0][0]                  \n",
      "__________________________________________________________________________________________________\n",
      "conv2d_24 (Conv2D)              (None, None, None, 3 2080        up_sampling2d_3[0][0]            \n",
      "__________________________________________________________________________________________________\n",
      "activation_15 (Activation)      (None, None, None, 3 0           batch_normalization_22[0][0]     \n",
      "__________________________________________________________________________________________________\n",
      "batch_normalization_23 (BatchNo (None, None, None, 3 128         conv2d_24[0][0]                  \n",
      "__________________________________________________________________________________________________\n",
      "conv2d_23 (Conv2D)              (None, None, None, 3 9248        activation_15[0][0]              \n",
      "__________________________________________________________________________________________________\n",
      "add_8 (Add)                     (None, None, None, 3 0           batch_normalization_23[0][0]     \n",
      "                                                                 conv2d_23[0][0]                  \n",
      "__________________________________________________________________________________________________\n",
      "conv2d_25 (Conv2D)              (None, None, None, 1 33          add_8[0][0]                      \n",
      "==================================================================================================\n",
      "Total params: 5,853,217\n",
      "Trainable params: 5,845,985\n",
      "Non-trainable params: 7,232\n",
      "__________________________________________________________________________________________________\n"
     ]
    },
    {
     "name": "stderr",
     "output_type": "stream",
     "text": [
      "/notebooks/tmp/MapGen/mymodels/unet_residual_small_stride4.py:80: UserWarning: Update your `Model` call to the Keras 2 API: `Model(inputs=Tensor(\"in..., outputs=Tensor(\"co...)`\n",
      "  return Model(input=inputs, output=path)\n"
     ]
    }
   ],
   "source": [
    "opt1 = keras.optimizers.Adadelta(lr=1.0, rho=0.95, epsilon=1e-08, decay=0.0)\n",
    "#opt1 = keras.optimizers.RMSprop(lr=0.001, rho=0.9, epsilon=None, decay=0.0)\n",
    "\n",
    "#model_ex1 = create_model(opt1, input_shape1)\n",
    "#model_ex1 = create_model_batch(opt1, input_shape1) # Not good as the skip connection\n",
    "#model_ex1 = create_model_add_skips(opt1, input_shape1)\n",
    "#model_ex1 = create_model_add_skips_3(opt1, input_shape1) # Add max pool but not better\n",
    "\n",
    "#from kmodels import create_model_add_skips_2\n",
    "#model_ex1 = create_model_add_skips_2(opt1, input_shape1) # ISPRS TCIV\n",
    "#model_ex1 = create_model_add_skips_linfnorm(opt1, input_shape1)\n",
    "\n",
    "from mymodels.unet_residual_small_stride4 import create_model_residual\n",
    "model_ex1 = create_model_residual(opt1, input_shape1) # Residual\n",
    "\n",
    "model_ex1.summary()"
   ]
  },
  {
   "cell_type": "code",
   "execution_count": 5,
   "metadata": {},
   "outputs": [
    {
     "name": "stdout",
     "output_type": "stream",
     "text": [
      "Epoch 1/100\n",
      "2000/2000 [==============================] - 241s 121ms/step - loss: 0.0484 - acc: 0.9664 - val_loss: 0.0403 - val_acc: 0.9871\n",
      "Epoch 2/100\n",
      "2000/2000 [==============================] - 238s 119ms/step - loss: 0.0420 - acc: 0.9679 - val_loss: 0.0397 - val_acc: 0.9887\n",
      "Epoch 3/100\n",
      "2000/2000 [==============================] - 238s 119ms/step - loss: 0.0397 - acc: 0.9684 - val_loss: 0.0366 - val_acc: 0.9889\n",
      "Epoch 4/100\n",
      "2000/2000 [==============================] - 239s 120ms/step - loss: 0.0380 - acc: 0.9688 - val_loss: 0.0329 - val_acc: 0.9899\n",
      "Epoch 5/100\n",
      "2000/2000 [==============================] - 239s 120ms/step - loss: 0.0375 - acc: 0.9689 - val_loss: 0.0325 - val_acc: 0.9903\n",
      "Epoch 6/100\n",
      "2000/2000 [==============================] - 239s 120ms/step - loss: 0.0364 - acc: 0.9692 - val_loss: 0.0309 - val_acc: 0.9908\n",
      "Epoch 7/100\n",
      "2000/2000 [==============================] - 239s 120ms/step - loss: 0.0357 - acc: 0.9694 - val_loss: 0.0305 - val_acc: 0.9912\n",
      "Epoch 8/100\n",
      "2000/2000 [==============================] - 239s 120ms/step - loss: 0.0356 - acc: 0.9694 - val_loss: 0.0304 - val_acc: 0.9908\n",
      "Epoch 9/100\n",
      "2000/2000 [==============================] - 239s 119ms/step - loss: 0.0351 - acc: 0.9695 - val_loss: 0.0292 - val_acc: 0.9916\n",
      "Epoch 10/100\n",
      "2000/2000 [==============================] - 239s 119ms/step - loss: 0.0350 - acc: 0.9695 - val_loss: 0.0301 - val_acc: 0.9913\n",
      "Epoch 11/100\n",
      "2000/2000 [==============================] - 239s 120ms/step - loss: 0.0348 - acc: 0.9696 - val_loss: 0.0300 - val_acc: 0.9910\n",
      "Epoch 12/100\n",
      "2000/2000 [==============================] - 239s 120ms/step - loss: 0.0347 - acc: 0.9696 - val_loss: 0.0291 - val_acc: 0.9918\n",
      "Epoch 13/100\n",
      "2000/2000 [==============================] - 239s 119ms/step - loss: 0.0343 - acc: 0.9697 - val_loss: 0.0291 - val_acc: 0.9918\n",
      "Epoch 14/100\n",
      "2000/2000 [==============================] - 239s 120ms/step - loss: 0.0342 - acc: 0.9698 - val_loss: 0.0282 - val_acc: 0.9919\n",
      "Epoch 15/100\n",
      "2000/2000 [==============================] - 239s 119ms/step - loss: 0.0341 - acc: 0.9698 - val_loss: 0.0289 - val_acc: 0.9920\n",
      "Epoch 16/100\n",
      "2000/2000 [==============================] - 239s 119ms/step - loss: 0.0336 - acc: 0.9698 - val_loss: 0.0280 - val_acc: 0.9922\n",
      "Epoch 17/100\n",
      "2000/2000 [==============================] - 239s 119ms/step - loss: 0.0340 - acc: 0.9699 - val_loss: 0.0286 - val_acc: 0.9920\n",
      "Epoch 18/100\n",
      "2000/2000 [==============================] - 239s 119ms/step - loss: 0.0332 - acc: 0.9699 - val_loss: 0.0281 - val_acc: 0.9920\n",
      "Epoch 19/100\n",
      "2000/2000 [==============================] - 239s 120ms/step - loss: 0.0342 - acc: 0.9698 - val_loss: 0.0275 - val_acc: 0.9923\n",
      "Epoch 20/100\n",
      "2000/2000 [==============================] - 239s 119ms/step - loss: 0.0332 - acc: 0.9700 - val_loss: 0.0275 - val_acc: 0.9922\n",
      "Epoch 21/100\n",
      "2000/2000 [==============================] - 239s 119ms/step - loss: 0.0337 - acc: 0.9699 - val_loss: 0.0279 - val_acc: 0.9922\n",
      "Epoch 22/100\n",
      "2000/2000 [==============================] - 239s 120ms/step - loss: 0.0333 - acc: 0.9700 - val_loss: 0.0281 - val_acc: 0.9920\n",
      "Epoch 23/100\n",
      "2000/2000 [==============================] - 239s 119ms/step - loss: 0.0324 - acc: 0.9701 - val_loss: 0.0269 - val_acc: 0.9927\n",
      "Epoch 24/100\n",
      "2000/2000 [==============================] - 238s 119ms/step - loss: 0.0330 - acc: 0.9700 - val_loss: 0.0267 - val_acc: 0.9927\n",
      "Epoch 25/100\n",
      "2000/2000 [==============================] - 239s 119ms/step - loss: 0.0324 - acc: 0.9701 - val_loss: 0.0267 - val_acc: 0.9927\n",
      "Epoch 26/100\n",
      "2000/2000 [==============================] - 239s 119ms/step - loss: 0.0325 - acc: 0.9701 - val_loss: 0.0266 - val_acc: 0.9927\n",
      "Epoch 27/100\n",
      "2000/2000 [==============================] - 238s 119ms/step - loss: 0.0326 - acc: 0.9701 - val_loss: 0.0265 - val_acc: 0.9927\n",
      "Epoch 28/100\n",
      "2000/2000 [==============================] - 238s 119ms/step - loss: 0.0321 - acc: 0.9702 - val_loss: 0.0265 - val_acc: 0.9927\n",
      "Epoch 29/100\n",
      "2000/2000 [==============================] - 239s 119ms/step - loss: 0.0328 - acc: 0.9700 - val_loss: 0.0265 - val_acc: 0.9928\n",
      "Epoch 30/100\n",
      "2000/2000 [==============================] - 238s 119ms/step - loss: 0.0324 - acc: 0.9702 - val_loss: 0.0265 - val_acc: 0.9928\n",
      "Epoch 31/100\n",
      "2000/2000 [==============================] - 239s 119ms/step - loss: 0.0319 - acc: 0.9702 - val_loss: 0.0264 - val_acc: 0.9928\n",
      "Epoch 32/100\n",
      "2000/2000 [==============================] - 238s 119ms/step - loss: 0.0321 - acc: 0.9702 - val_loss: 0.0264 - val_acc: 0.9928\n",
      "Epoch 33/100\n",
      "2000/2000 [==============================] - 239s 119ms/step - loss: 0.0325 - acc: 0.9702 - val_loss: 0.0264 - val_acc: 0.9928\n",
      "Epoch 34/100\n",
      "2000/2000 [==============================] - 239s 119ms/step - loss: 0.0316 - acc: 0.9703 - val_loss: 0.0264 - val_acc: 0.9928\n",
      "Epoch 35/100\n",
      "2000/2000 [==============================] - 239s 119ms/step - loss: 0.0331 - acc: 0.9700 - val_loss: 0.0264 - val_acc: 0.9928\n",
      "Epoch 36/100\n",
      "2000/2000 [==============================] - 239s 119ms/step - loss: 0.0318 - acc: 0.9702 - val_loss: 0.0264 - val_acc: 0.9928\n",
      "Epoch 37/100\n",
      "2000/2000 [==============================] - 239s 119ms/step - loss: 0.0325 - acc: 0.9702 - val_loss: 0.0264 - val_acc: 0.9928\n",
      "Epoch 38/100\n",
      "2000/2000 [==============================] - 239s 119ms/step - loss: 0.0322 - acc: 0.9701 - val_loss: 0.0264 - val_acc: 0.9928\n",
      "Epoch 39/100\n",
      "2000/2000 [==============================] - 239s 120ms/step - loss: 0.0320 - acc: 0.9702 - val_loss: 0.0264 - val_acc: 0.9928\n",
      "Epoch 40/100\n",
      "2000/2000 [==============================] - 239s 119ms/step - loss: 0.0331 - acc: 0.9701 - val_loss: 0.0264 - val_acc: 0.9928\n",
      "Epoch 41/100\n",
      "2000/2000 [==============================] - 239s 119ms/step - loss: 0.0313 - acc: 0.9704 - val_loss: 0.0264 - val_acc: 0.9928\n",
      "Epoch 42/100\n",
      "2000/2000 [==============================] - 239s 119ms/step - loss: 0.0326 - acc: 0.9702 - val_loss: 0.0264 - val_acc: 0.9928\n",
      "Epoch 43/100\n",
      "2000/2000 [==============================] - 239s 119ms/step - loss: 0.0324 - acc: 0.9701 - val_loss: 0.0264 - val_acc: 0.9928\n",
      "Epoch 44/100\n",
      "2000/2000 [==============================] - 239s 119ms/step - loss: 0.0323 - acc: 0.9702 - val_loss: 0.0264 - val_acc: 0.9928\n",
      "Epoch 45/100\n",
      "2000/2000 [==============================] - 238s 119ms/step - loss: 0.0324 - acc: 0.9701 - val_loss: 0.0264 - val_acc: 0.9928\n",
      "Epoch 46/100\n",
      "2000/2000 [==============================] - 239s 119ms/step - loss: 0.0318 - acc: 0.9702 - val_loss: 0.0264 - val_acc: 0.9928\n",
      "Epoch 47/100\n",
      "2000/2000 [==============================] - 239s 119ms/step - loss: 0.0319 - acc: 0.9703 - val_loss: 0.0264 - val_acc: 0.9928\n"
     ]
    }
   ],
   "source": [
    "data_gen_args = dict(rotation_range=180.)\n",
    "\n",
    "image_datagen = ImageDataGenerator(**data_gen_args)\n",
    "mask_datagen = ImageDataGenerator(**data_gen_args)\n",
    "\n",
    "seed = 1\n",
    "BATCH_SIZE = 16\n",
    "result_generator = zip(image_datagen.flow(x_train_sim, batch_size=BATCH_SIZE, seed=seed), \n",
    "                       mask_datagen.flow(y_train_sim, batch_size=BATCH_SIZE, seed=seed))\n",
    "\n",
    "History1 = History()\n",
    "hist1 = model_ex1.fit_generator(  result_generator,\n",
    "                                  epochs = 100,\n",
    "                                  steps_per_epoch=2000,\n",
    "                                  verbose=1,\n",
    "                                  shuffle=True,\n",
    "                                  callbacks=[History1, \n",
    "                                             EarlyStopping(patience=5), \n",
    "                                             ReduceLROnPlateau(patience = 3, verbose = 0),\n",
    "                                             ModelCheckpoint(outPath + \"weights.hdf5\", \n",
    "                                                             save_best_only = True, \n",
    "                                                             save_weights_only = False)],\n",
    "                                  validation_data=(x_test_sim, y_test_sim))"
   ]
  },
  {
   "cell_type": "markdown",
   "metadata": {},
   "source": [
    "## Training"
   ]
  },
  {
   "cell_type": "code",
   "execution_count": 6,
   "metadata": {},
   "outputs": [
    {
     "data": {
      "image/png": "[encoded data removed]",
      "text/plain": [
       "<matplotlib.figure.Figure at 0x7f63a419d4a8>"
      ]
     },
     "metadata": {},
     "output_type": "display_data"
    },
    {
     "data": {
      "image/png": "[encoded data removed]",
      "text/plain": [
       "<matplotlib.figure.Figure at 0x7f6049be4208>"
      ]
     },
     "metadata": {},
     "output_type": "display_data"
    }
   ],
   "source": [
    "import os\n",
    "import numpy as np\n",
    "import pandas as pd\n",
    "from data_helper import predict_15k, save_hist, save_model\n",
    "\n",
    "### Save history\n",
    "save_hist(History1, outPath)\n",
    "# Retain best model\n",
    "#from keras import models\n",
    "#model_ex1 = models.load_model(outPath + \"weights.hdf5\")"
   ]
  },
  {
   "cell_type": "markdown",
   "metadata": {},
   "source": [
    "## Independent Test"
   ]
  },
  {
   "cell_type": "raw",
   "metadata": {},
   "source": [
    "keras.layers.Round = Round\n",
    "keras.regularizers.linf_reg = linf_reg\n",
    "keras.losses.linf_loss = linf_loss\n",
    "keras.losses.dice_coef_loss = dice_coef_loss"
   ]
  },
  {
   "cell_type": "code",
   "execution_count": null,
   "metadata": {},
   "outputs": [],
   "source": []
  },
  {
   "cell_type": "code",
   "execution_count": 7,
   "metadata": {},
   "outputs": [
    {
     "name": "stdout",
     "output_type": "stream",
     "text": [
      "15k Example: \n",
      "accuracy: 0.9764130991339968\n",
      "IoU: 0.885579034522481\n",
      "accuracy: 0.9887826102120536\n",
      "IoU: 0.9488875645609853\n",
      "15k Example: \n",
      "accuracy: 0.982896331738437\n",
      "IoU: 0.9261015173858516\n",
      "accuracy: 0.9928570371685606\n",
      "IoU: 0.9679751894787468\n"
     ]
    },
    {
     "data": {
      "text/html": [
       "<div>\n",
       "<style scoped>\n",
       "    .dataframe tbody tr th:only-of-type {\n",
       "        vertical-align: middle;\n",
       "    }\n",
       "\n",
       "    .dataframe tbody tr th {\n",
       "        vertical-align: top;\n",
       "    }\n",
       "\n",
       "    .dataframe thead th {\n",
       "        text-align: right;\n",
       "    }\n",
       "</style>\n",
       "<table border=\"1\" class=\"dataframe\">\n",
       "  <thead>\n",
       "    <tr style=\"text-align: right;\">\n",
       "      <th></th>\n",
       "      <th>Input vs Target (Test1)</th>\n",
       "      <th>Prediction vs Target (Test1)</th>\n",
       "      <th>Input vs Target (Test2)</th>\n",
       "      <th>Prediction vs Target (Test2)</th>\n",
       "    </tr>\n",
       "    <tr>\n",
       "      <th>Metrics</th>\n",
       "      <th></th>\n",
       "      <th></th>\n",
       "      <th></th>\n",
       "      <th></th>\n",
       "    </tr>\n",
       "  </thead>\n",
       "  <tbody>\n",
       "    <tr>\n",
       "      <th>Accuracy</th>\n",
       "      <td>0.976413</td>\n",
       "      <td>0.988783</td>\n",
       "      <td>0.982896</td>\n",
       "      <td>0.992857</td>\n",
       "    </tr>\n",
       "    <tr>\n",
       "      <th>IoU</th>\n",
       "      <td>0.885579</td>\n",
       "      <td>0.948888</td>\n",
       "      <td>0.926102</td>\n",
       "      <td>0.967975</td>\n",
       "    </tr>\n",
       "  </tbody>\n",
       "</table>\n",
       "</div>"
      ],
      "text/plain": [
       "          Input vs Target (Test1)  Prediction vs Target (Test1)  \\\n",
       "Metrics                                                           \n",
       "Accuracy                 0.976413                      0.988783   \n",
       "IoU                      0.885579                      0.948888   \n",
       "\n",
       "          Input vs Target (Test2)  Prediction vs Target (Test2)  \n",
       "Metrics                                                          \n",
       "Accuracy                 0.982896                      0.992857  \n",
       "IoU                      0.926102                      0.967975  "
      ]
     },
     "execution_count": 7,
     "metadata": {},
     "output_type": "execute_result"
    },
    {
     "data": {
      "image/png": "[encoded data removed]",
      "text/plain": [
       "<matplotlib.figure.Figure at 0x7f604a6cbef0>"
      ]
     },
     "metadata": {},
     "output_type": "display_data"
    },
    {
     "data": {
      "image/png": "[encoded data removed]",
      "text/plain": [
       "<matplotlib.figure.Figure at 0x7f5ff5c8f6a0>"
      ]
     },
     "metadata": {},
     "output_type": "display_data"
    },
    {
     "data": {
      "image/png": "[encoded data removed]",
      "text/plain": [
       "<matplotlib.figure.Figure at 0x7f5ff33bbc50>"
      ]
     },
     "metadata": {},
     "output_type": "display_data"
    },
    {
     "data": {
      "image/png": "[encoded data removed]",
      "text/plain": [
       "<matplotlib.figure.Figure at 0x7f5fe847de80>"
      ]
     },
     "metadata": {},
     "output_type": "display_data"
    }
   ],
   "source": [
    "testPath = r\"../tmp_data/Data/Testing/\"\n",
    "\n",
    "all_records = []\n",
    "\n",
    "records = predict_15k(outPath, testPath, outPath, \n",
    "                      r\"FTest1_input_inv.png\", r\"FTest1_output_inv.png\")\n",
    "all_records.extend(records)\n",
    "\n",
    "records = predict_15k(outPath, testPath, outPath, \n",
    "                      r\"FTest2_input_inv.png\", r\"FTest2_output_inv.png\")\n",
    "all_records.extend(records)\n",
    "\n",
    "df = pd.DataFrame(np.transpose(all_records))\n",
    "df.columns = [\"Input vs Target (Test1)\", \"Prediction vs Target (Test1)\", \n",
    "              \"Input vs Target (Test2)\", \"Prediction vs Target (Test2)\"]\n",
    "\n",
    "df = df.rename({0: \"Accuracy\", 1: 'IoU'})\n",
    "df.index.name = 'Metrics'\n",
    "df"
   ]
  },
  {
   "cell_type": "code",
   "execution_count": null,
   "metadata": {},
   "outputs": [],
   "source": []
  },
  {
   "cell_type": "code",
   "execution_count": null,
   "metadata": {},
   "outputs": [],
   "source": []
  }
 ],
 "metadata": {
  "kernelspec": {
   "display_name": "Python 3",
   "language": "python",
   "name": "python3"
  },
  "language_info": {
   "codemirror_mode": {
    "name": "ipython",
    "version": 3
   },
   "file_extension": ".py",
   "mimetype": "text/x-python",
   "name": "python",
   "nbconvert_exporter": "python",
   "pygments_lexer": "ipython3",
   "version": "3.5.2"
  }
 },
 "nbformat": 4,
 "nbformat_minor": 2
}
