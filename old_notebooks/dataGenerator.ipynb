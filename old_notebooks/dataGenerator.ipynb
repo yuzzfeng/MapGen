{
 "cells": [
  {
   "cell_type": "code",
   "execution_count": 1,
   "metadata": {},
   "outputs": [
    {
     "name": "stderr",
     "output_type": "stream",
     "text": [
      "Using TensorFlow backend.\n"
     ]
    }
   ],
   "source": [
    "import matplotlib.pyplot as plt\n",
    "%matplotlib inline\n",
    "\n",
    "import numpy as np\n",
    "from data_helper import readImg, readImgInv, imagePatches, removeBlackImg, removeCorrespondence\n",
    "\n",
    "def data_collector(fns_input, fns_output):\n",
    "    \n",
    "    sim_input = []\n",
    "    sim_output = []\n",
    "    \n",
    "    for fn_input, fn_output in zip(fns_input, fns_output):\n",
    "        \n",
    "        # load simulated heat map (TRAJECTORY SIMULATION) and target road for Hannover ####\n",
    "        sim_heatmap_hannover = readImg(fn_input)\n",
    "        sim_road_hannover = readImg(fn_output)\n",
    "        \n",
    "        sim_hm_patches_overlap = imagePatches(sim_heatmap_hannover, p_size_1, p_size_1, int(p_size_1))\n",
    "        sim_road_patches_overlap = imagePatches(sim_road_hannover, p_size_1, p_size_1, int(p_size_1))\n",
    "        sim_road_patches_overlap_new = removeCorrespondence(sim_road_patches_overlap, sim_hm_patches_overlap)\n",
    "        sim_hm_patches_overlap_new = removeCorrespondence(sim_hm_patches_overlap, sim_road_patches_overlap)\n",
    "        sim_road_patches_overlap_new_new = removeBlackImg(sim_road_patches_overlap)\n",
    "        \n",
    "        sim_input += sim_hm_patches_overlap_new\n",
    "        sim_output += sim_road_patches_overlap_new_new\n",
    "    \n",
    "    return sim_input, sim_output"
   ]
  },
  {
   "cell_type": "code",
   "execution_count": 2,
   "metadata": {},
   "outputs": [],
   "source": [
    "p_size_1 = 128\n",
    "\n",
    "tmpPath = r\"../tmp_data/data_feng/geb25/\"\n",
    "\n",
    "trainPath = r\"Data/geb25/\"\n",
    "fns_input = [trainPath + r\"geb.png\"]\n",
    "fns_output = [trainPath + r\"geb25.png\"]"
   ]
  },
  {
   "cell_type": "code",
   "execution_count": 3,
   "metadata": {},
   "outputs": [
    {
     "name": "stdout",
     "output_type": "stream",
     "text": [
      "Number of tiles:  35288\n"
     ]
    }
   ],
   "source": [
    "sim_hm_patches_32_new, sim_road_patches_32_new_new = data_collector(fns_input, fns_output)\n",
    "print('Number of tiles: ', len(sim_hm_patches_32_new))"
   ]
  },
  {
   "cell_type": "code",
   "execution_count": 4,
   "metadata": {},
   "outputs": [
    {
     "name": "stdout",
     "output_type": "stream",
     "text": [
      "31760 3528 31760 3528\n",
      "Input Shape of the models (31760, 128, 128, 1)\n"
     ]
    },
    {
     "data": {
      "image/png": "[encoded data removed]",
      "text/plain": [
       "<matplotlib.figure.Figure at 0x7fa903dd71d0>"
      ]
     },
     "metadata": {},
     "output_type": "display_data"
    },
    {
     "data": {
      "image/png": "[encoded data removed]",
      "text/plain": [
       "<matplotlib.figure.Figure at 0x7fa63adaaef0>"
      ]
     },
     "metadata": {},
     "output_type": "display_data"
    }
   ],
   "source": [
    "#### experience 1 - simulated hm\n",
    "index_list_sim = list(range(len(sim_hm_patches_32_new)))\n",
    "np.random.shuffle(index_list_sim)\n",
    "\n",
    "idx_sim = int(len(sim_hm_patches_32_new) / 10)#1000\n",
    "index_list_test_sim = index_list_sim[-idx_sim:]\n",
    "index_list_test_sim.sort()\n",
    "sim_hm_test = [sim_hm_patches_32_new[i] for i in index_list_test_sim]\n",
    "sim_road_test = [sim_road_patches_32_new_new[i] for i in index_list_test_sim]\n",
    "\n",
    "index_list_train_sim = index_list_sim[:-idx_sim]\n",
    "index_list_train_sim.sort()\n",
    "sim_hm_train = [sim_hm_patches_32_new[i] for i in index_list_train_sim]\n",
    "sim_road_train = [sim_road_patches_32_new_new[i] for i in index_list_train_sim]\n",
    "\n",
    "#from sklearn.model_selection import train_test_split\n",
    "#sim_hm_train, sim_hm_test, sim_road_train, sim_road_test = train_test_split(sim_hm_patches_32_new, \n",
    "#                                                                            sim_road_patches_32_new_new,\n",
    "#                                                                            test_size=0.33, random_state=42)\n",
    "\n",
    "print(len(sim_hm_train), len(sim_hm_test), len(sim_road_train), len(sim_road_test))\n",
    "\n",
    "x_train_sim = np.reshape(sim_hm_train, (len(sim_hm_train), p_size_1, p_size_1, 1))\n",
    "y_train_sim = np.reshape(sim_road_train, (len(sim_road_train), p_size_1, p_size_1, 1))\n",
    "x_test_sim = np.reshape(sim_hm_test, (len(sim_hm_test), p_size_1, p_size_1, 1))\n",
    "y_test_sim = np.reshape(sim_road_test, (len(sim_road_test), p_size_1, p_size_1, 1))\n",
    "\n",
    "# save image patch arrays\n",
    "np.save(tmpPath + \"x_train_sim.npy\", x_train_sim)\n",
    "np.save(tmpPath + \"y_train_sim.npy\", y_train_sim)\n",
    "np.save(tmpPath + \"x_test_sim.npy\", x_test_sim)\n",
    "np.save(tmpPath + \"y_test_sim.npy\", y_test_sim)\n",
    "\n",
    "plt.figure()\n",
    "plt.imshow(np.reshape(x_test_sim[2], (p_size_1,p_size_1)))\n",
    "plt.figure()\n",
    "plt.imshow(np.reshape(y_test_sim[2], (p_size_1,p_size_1)))\n",
    "\n",
    "input_shape1 = (None, None, 1) #x_train_sim[0].shape\n",
    "print('Input Shape of the models', x_train_sim.shape)"
   ]
  },
  {
   "cell_type": "code",
   "execution_count": null,
   "metadata": {},
   "outputs": [],
   "source": []
  }
 ],
 "metadata": {
  "kernelspec": {
   "display_name": "Python 3",
   "language": "python",
   "name": "python3"
  },
  "language_info": {
   "codemirror_mode": {
    "name": "ipython",
    "version": 3
   },
   "file_extension": ".py",
   "mimetype": "text/x-python",
   "name": "python",
   "nbconvert_exporter": "python",
   "pygments_lexer": "ipython3",
   "version": "3.5.2"
  }
 },
 "nbformat": 4,
 "nbformat_minor": 2
}
